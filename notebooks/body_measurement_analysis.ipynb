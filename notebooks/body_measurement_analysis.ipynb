{
 "cells": [
  {
   "cell_type": "code",
   "execution_count": 1,
   "id": "92a6f7e3-aaf2-4ccb-b28a-6d67797cfe18",
   "metadata": {},
   "outputs": [
    {
     "name": "stdout",
     "output_type": "stream",
     "text": [
      "✅ Libraries loaded!\n"
     ]
    }
   ],
   "source": [
    "import pandas as pd\n",
    "import matplotlib.pyplot as plt\n",
    "import seaborn as sns\n",
    "print(\"✅ Libraries loaded!\")"
   ]
  },
  {
   "cell_type": "code",
   "execution_count": 2,
   "id": "fa64d546-0e28-40f2-9619-2a751827fc44",
   "metadata": {},
   "outputs": [
    {
     "ename": "FileNotFoundError",
     "evalue": "[Errno 2] No such file or directory: 'data/Analysis_Dataset_Body_Measurements_CM.xlsx'",
     "output_type": "error",
     "traceback": [
      "\u001b[31m---------------------------------------------------------------------------\u001b[39m",
      "\u001b[31mFileNotFoundError\u001b[39m                         Traceback (most recent call last)",
      "\u001b[36mCell\u001b[39m\u001b[36m \u001b[39m\u001b[32mIn[2]\u001b[39m\u001b[32m, line 4\u001b[39m\n\u001b[32m      1\u001b[39m file_path = \u001b[33m\"\u001b[39m\u001b[33mdata/Analysis_Dataset_Body_Measurements_CM.xlsx\u001b[39m\u001b[33m\"\u001b[39m\n\u001b[32m      3\u001b[39m \u001b[38;5;66;03m# Load the Excel file\u001b[39;00m\n\u001b[32m----> \u001b[39m\u001b[32m4\u001b[39m df = \u001b[43mpd\u001b[49m\u001b[43m.\u001b[49m\u001b[43mread_excel\u001b[49m\u001b[43m(\u001b[49m\u001b[43mfile_path\u001b[49m\u001b[43m,\u001b[49m\u001b[43m \u001b[49m\u001b[43mengine\u001b[49m\u001b[43m=\u001b[49m\u001b[33;43m'\u001b[39;49m\u001b[33;43mopenpyxl\u001b[39;49m\u001b[33;43m'\u001b[39;49m\u001b[43m)\u001b[49m  \u001b[38;5;66;03m# 'engine' needed for .xlsx files\u001b[39;00m\n\u001b[32m      6\u001b[39m \u001b[38;5;28mprint\u001b[39m(\u001b[33m\"\u001b[39m\u001b[33m📊 Dataset loaded successfully!\u001b[39m\u001b[33m\"\u001b[39m)\n\u001b[32m      7\u001b[39m \u001b[38;5;28mprint\u001b[39m(\u001b[33m\"\u001b[39m\u001b[38;5;130;01m\\n\u001b[39;00m\u001b[33m🔍 First 3 rows:\u001b[39m\u001b[33m\"\u001b[39m)\n",
      "\u001b[36mFile \u001b[39m\u001b[32m~\\Documents\\my_project\\body-measurement-predictor\\venv\\Lib\\site-packages\\pandas\\io\\excel\\_base.py:495\u001b[39m, in \u001b[36mread_excel\u001b[39m\u001b[34m(io, sheet_name, header, names, index_col, usecols, dtype, engine, converters, true_values, false_values, skiprows, nrows, na_values, keep_default_na, na_filter, verbose, parse_dates, date_parser, date_format, thousands, decimal, comment, skipfooter, storage_options, dtype_backend, engine_kwargs)\u001b[39m\n\u001b[32m    493\u001b[39m \u001b[38;5;28;01mif\u001b[39;00m \u001b[38;5;129;01mnot\u001b[39;00m \u001b[38;5;28misinstance\u001b[39m(io, ExcelFile):\n\u001b[32m    494\u001b[39m     should_close = \u001b[38;5;28;01mTrue\u001b[39;00m\n\u001b[32m--> \u001b[39m\u001b[32m495\u001b[39m     io = \u001b[43mExcelFile\u001b[49m\u001b[43m(\u001b[49m\n\u001b[32m    496\u001b[39m \u001b[43m        \u001b[49m\u001b[43mio\u001b[49m\u001b[43m,\u001b[49m\n\u001b[32m    497\u001b[39m \u001b[43m        \u001b[49m\u001b[43mstorage_options\u001b[49m\u001b[43m=\u001b[49m\u001b[43mstorage_options\u001b[49m\u001b[43m,\u001b[49m\n\u001b[32m    498\u001b[39m \u001b[43m        \u001b[49m\u001b[43mengine\u001b[49m\u001b[43m=\u001b[49m\u001b[43mengine\u001b[49m\u001b[43m,\u001b[49m\n\u001b[32m    499\u001b[39m \u001b[43m        \u001b[49m\u001b[43mengine_kwargs\u001b[49m\u001b[43m=\u001b[49m\u001b[43mengine_kwargs\u001b[49m\u001b[43m,\u001b[49m\n\u001b[32m    500\u001b[39m \u001b[43m    \u001b[49m\u001b[43m)\u001b[49m\n\u001b[32m    501\u001b[39m \u001b[38;5;28;01melif\u001b[39;00m engine \u001b[38;5;129;01mand\u001b[39;00m engine != io.engine:\n\u001b[32m    502\u001b[39m     \u001b[38;5;28;01mraise\u001b[39;00m \u001b[38;5;167;01mValueError\u001b[39;00m(\n\u001b[32m    503\u001b[39m         \u001b[33m\"\u001b[39m\u001b[33mEngine should not be specified when passing \u001b[39m\u001b[33m\"\u001b[39m\n\u001b[32m    504\u001b[39m         \u001b[33m\"\u001b[39m\u001b[33man ExcelFile - ExcelFile already has the engine set\u001b[39m\u001b[33m\"\u001b[39m\n\u001b[32m    505\u001b[39m     )\n",
      "\u001b[36mFile \u001b[39m\u001b[32m~\\Documents\\my_project\\body-measurement-predictor\\venv\\Lib\\site-packages\\pandas\\io\\excel\\_base.py:1567\u001b[39m, in \u001b[36mExcelFile.__init__\u001b[39m\u001b[34m(self, path_or_buffer, engine, storage_options, engine_kwargs)\u001b[39m\n\u001b[32m   1564\u001b[39m \u001b[38;5;28mself\u001b[39m.engine = engine\n\u001b[32m   1565\u001b[39m \u001b[38;5;28mself\u001b[39m.storage_options = storage_options\n\u001b[32m-> \u001b[39m\u001b[32m1567\u001b[39m \u001b[38;5;28mself\u001b[39m._reader = \u001b[38;5;28;43mself\u001b[39;49m\u001b[43m.\u001b[49m\u001b[43m_engines\u001b[49m\u001b[43m[\u001b[49m\u001b[43mengine\u001b[49m\u001b[43m]\u001b[49m\u001b[43m(\u001b[49m\n\u001b[32m   1568\u001b[39m \u001b[43m    \u001b[49m\u001b[38;5;28;43mself\u001b[39;49m\u001b[43m.\u001b[49m\u001b[43m_io\u001b[49m\u001b[43m,\u001b[49m\n\u001b[32m   1569\u001b[39m \u001b[43m    \u001b[49m\u001b[43mstorage_options\u001b[49m\u001b[43m=\u001b[49m\u001b[43mstorage_options\u001b[49m\u001b[43m,\u001b[49m\n\u001b[32m   1570\u001b[39m \u001b[43m    \u001b[49m\u001b[43mengine_kwargs\u001b[49m\u001b[43m=\u001b[49m\u001b[43mengine_kwargs\u001b[49m\u001b[43m,\u001b[49m\n\u001b[32m   1571\u001b[39m \u001b[43m\u001b[49m\u001b[43m)\u001b[49m\n",
      "\u001b[36mFile \u001b[39m\u001b[32m~\\Documents\\my_project\\body-measurement-predictor\\venv\\Lib\\site-packages\\pandas\\io\\excel\\_openpyxl.py:553\u001b[39m, in \u001b[36mOpenpyxlReader.__init__\u001b[39m\u001b[34m(self, filepath_or_buffer, storage_options, engine_kwargs)\u001b[39m\n\u001b[32m    541\u001b[39m \u001b[38;5;250m\u001b[39m\u001b[33;03m\"\"\"\u001b[39;00m\n\u001b[32m    542\u001b[39m \u001b[33;03mReader using openpyxl engine.\u001b[39;00m\n\u001b[32m    543\u001b[39m \n\u001b[32m   (...)\u001b[39m\u001b[32m    550\u001b[39m \u001b[33;03m    Arbitrary keyword arguments passed to excel engine.\u001b[39;00m\n\u001b[32m    551\u001b[39m \u001b[33;03m\"\"\"\u001b[39;00m\n\u001b[32m    552\u001b[39m import_optional_dependency(\u001b[33m\"\u001b[39m\u001b[33mopenpyxl\u001b[39m\u001b[33m\"\u001b[39m)\n\u001b[32m--> \u001b[39m\u001b[32m553\u001b[39m \u001b[38;5;28;43msuper\u001b[39;49m\u001b[43m(\u001b[49m\u001b[43m)\u001b[49m\u001b[43m.\u001b[49m\u001b[34;43m__init__\u001b[39;49m\u001b[43m(\u001b[49m\n\u001b[32m    554\u001b[39m \u001b[43m    \u001b[49m\u001b[43mfilepath_or_buffer\u001b[49m\u001b[43m,\u001b[49m\n\u001b[32m    555\u001b[39m \u001b[43m    \u001b[49m\u001b[43mstorage_options\u001b[49m\u001b[43m=\u001b[49m\u001b[43mstorage_options\u001b[49m\u001b[43m,\u001b[49m\n\u001b[32m    556\u001b[39m \u001b[43m    \u001b[49m\u001b[43mengine_kwargs\u001b[49m\u001b[43m=\u001b[49m\u001b[43mengine_kwargs\u001b[49m\u001b[43m,\u001b[49m\n\u001b[32m    557\u001b[39m \u001b[43m\u001b[49m\u001b[43m)\u001b[49m\n",
      "\u001b[36mFile \u001b[39m\u001b[32m~\\Documents\\my_project\\body-measurement-predictor\\venv\\Lib\\site-packages\\pandas\\io\\excel\\_base.py:563\u001b[39m, in \u001b[36mBaseExcelReader.__init__\u001b[39m\u001b[34m(self, filepath_or_buffer, storage_options, engine_kwargs)\u001b[39m\n\u001b[32m    559\u001b[39m \u001b[38;5;28mself\u001b[39m.handles = IOHandles(\n\u001b[32m    560\u001b[39m     handle=filepath_or_buffer, compression={\u001b[33m\"\u001b[39m\u001b[33mmethod\u001b[39m\u001b[33m\"\u001b[39m: \u001b[38;5;28;01mNone\u001b[39;00m}\n\u001b[32m    561\u001b[39m )\n\u001b[32m    562\u001b[39m \u001b[38;5;28;01mif\u001b[39;00m \u001b[38;5;129;01mnot\u001b[39;00m \u001b[38;5;28misinstance\u001b[39m(filepath_or_buffer, (ExcelFile, \u001b[38;5;28mself\u001b[39m._workbook_class)):\n\u001b[32m--> \u001b[39m\u001b[32m563\u001b[39m     \u001b[38;5;28mself\u001b[39m.handles = \u001b[43mget_handle\u001b[49m\u001b[43m(\u001b[49m\n\u001b[32m    564\u001b[39m \u001b[43m        \u001b[49m\u001b[43mfilepath_or_buffer\u001b[49m\u001b[43m,\u001b[49m\u001b[43m \u001b[49m\u001b[33;43m\"\u001b[39;49m\u001b[33;43mrb\u001b[39;49m\u001b[33;43m\"\u001b[39;49m\u001b[43m,\u001b[49m\u001b[43m \u001b[49m\u001b[43mstorage_options\u001b[49m\u001b[43m=\u001b[49m\u001b[43mstorage_options\u001b[49m\u001b[43m,\u001b[49m\u001b[43m \u001b[49m\u001b[43mis_text\u001b[49m\u001b[43m=\u001b[49m\u001b[38;5;28;43;01mFalse\u001b[39;49;00m\n\u001b[32m    565\u001b[39m \u001b[43m    \u001b[49m\u001b[43m)\u001b[49m\n\u001b[32m    567\u001b[39m \u001b[38;5;28;01mif\u001b[39;00m \u001b[38;5;28misinstance\u001b[39m(\u001b[38;5;28mself\u001b[39m.handles.handle, \u001b[38;5;28mself\u001b[39m._workbook_class):\n\u001b[32m    568\u001b[39m     \u001b[38;5;28mself\u001b[39m.book = \u001b[38;5;28mself\u001b[39m.handles.handle\n",
      "\u001b[36mFile \u001b[39m\u001b[32m~\\Documents\\my_project\\body-measurement-predictor\\venv\\Lib\\site-packages\\pandas\\io\\common.py:882\u001b[39m, in \u001b[36mget_handle\u001b[39m\u001b[34m(path_or_buf, mode, encoding, compression, memory_map, is_text, errors, storage_options)\u001b[39m\n\u001b[32m    873\u001b[39m         handle = \u001b[38;5;28mopen\u001b[39m(\n\u001b[32m    874\u001b[39m             handle,\n\u001b[32m    875\u001b[39m             ioargs.mode,\n\u001b[32m   (...)\u001b[39m\u001b[32m    878\u001b[39m             newline=\u001b[33m\"\u001b[39m\u001b[33m\"\u001b[39m,\n\u001b[32m    879\u001b[39m         )\n\u001b[32m    880\u001b[39m     \u001b[38;5;28;01melse\u001b[39;00m:\n\u001b[32m    881\u001b[39m         \u001b[38;5;66;03m# Binary mode\u001b[39;00m\n\u001b[32m--> \u001b[39m\u001b[32m882\u001b[39m         handle = \u001b[38;5;28;43mopen\u001b[39;49m\u001b[43m(\u001b[49m\u001b[43mhandle\u001b[49m\u001b[43m,\u001b[49m\u001b[43m \u001b[49m\u001b[43mioargs\u001b[49m\u001b[43m.\u001b[49m\u001b[43mmode\u001b[49m\u001b[43m)\u001b[49m\n\u001b[32m    883\u001b[39m     handles.append(handle)\n\u001b[32m    885\u001b[39m \u001b[38;5;66;03m# Convert BytesIO or file objects passed with an encoding\u001b[39;00m\n",
      "\u001b[31mFileNotFoundError\u001b[39m: [Errno 2] No such file or directory: 'data/Analysis_Dataset_Body_Measurements_CM.xlsx'"
     ]
    }
   ],
   "source": [
    "file_path = \"data/Analysis_Dataset_Body_Measurements_CM.xlsx\"\n",
    "\n",
    "# Load the Excel file\n",
    "df = pd.read_excel(file_path, engine='openpyxl')  # 'engine' needed for .xlsx files\n",
    "\n",
    "print(\"📊 Dataset loaded successfully!\")\n",
    "print(\"\\n🔍 First 3 rows:\")\n",
    "display(df.head(3))  # Show a preview"
   ]
  },
  {
   "cell_type": "code",
   "execution_count": 3,
   "id": "2ce0e401-ea54-4d11-9aea-823d60eabe22",
   "metadata": {},
   "outputs": [
    {
     "ename": "FileNotFoundError",
     "evalue": "[Errno 2] No such file or directory: 'data/Analysis_Dataset_Body_Measurements_CM.xlsx'",
     "output_type": "error",
     "traceback": [
      "\u001b[31m---------------------------------------------------------------------------\u001b[39m",
      "\u001b[31mFileNotFoundError\u001b[39m                         Traceback (most recent call last)",
      "\u001b[36mCell\u001b[39m\u001b[36m \u001b[39m\u001b[32mIn[3]\u001b[39m\u001b[32m, line 4\u001b[39m\n\u001b[32m      1\u001b[39m file_path = \u001b[33m\"\u001b[39m\u001b[33mdata/Analysis_Dataset_Body_Measurements_CM.xlsx\u001b[39m\u001b[33m\"\u001b[39m\n\u001b[32m      3\u001b[39m \u001b[38;5;66;03m# Load the Excel file\u001b[39;00m\n\u001b[32m----> \u001b[39m\u001b[32m4\u001b[39m df = \u001b[43mpd\u001b[49m\u001b[43m.\u001b[49m\u001b[43mread_excel\u001b[49m\u001b[43m(\u001b[49m\u001b[43mfile_path\u001b[49m\u001b[43m,\u001b[49m\u001b[43m \u001b[49m\u001b[43mengine\u001b[49m\u001b[43m=\u001b[49m\u001b[33;43m'\u001b[39;49m\u001b[33;43mopenpyxl\u001b[39;49m\u001b[33;43m'\u001b[39;49m\u001b[43m)\u001b[49m  \u001b[38;5;66;03m# 'engine' needed for .xlsx files\u001b[39;00m\n\u001b[32m      6\u001b[39m \u001b[38;5;28mprint\u001b[39m(\u001b[33m\"\u001b[39m\u001b[33m📊 Dataset loaded successfully!\u001b[39m\u001b[33m\"\u001b[39m)\n\u001b[32m      7\u001b[39m \u001b[38;5;28mprint\u001b[39m(\u001b[33m\"\u001b[39m\u001b[38;5;130;01m\\n\u001b[39;00m\u001b[33m🔍 First 3 rows:\u001b[39m\u001b[33m\"\u001b[39m)\n",
      "\u001b[36mFile \u001b[39m\u001b[32m~\\Documents\\my_project\\body-measurement-predictor\\venv\\Lib\\site-packages\\pandas\\io\\excel\\_base.py:495\u001b[39m, in \u001b[36mread_excel\u001b[39m\u001b[34m(io, sheet_name, header, names, index_col, usecols, dtype, engine, converters, true_values, false_values, skiprows, nrows, na_values, keep_default_na, na_filter, verbose, parse_dates, date_parser, date_format, thousands, decimal, comment, skipfooter, storage_options, dtype_backend, engine_kwargs)\u001b[39m\n\u001b[32m    493\u001b[39m \u001b[38;5;28;01mif\u001b[39;00m \u001b[38;5;129;01mnot\u001b[39;00m \u001b[38;5;28misinstance\u001b[39m(io, ExcelFile):\n\u001b[32m    494\u001b[39m     should_close = \u001b[38;5;28;01mTrue\u001b[39;00m\n\u001b[32m--> \u001b[39m\u001b[32m495\u001b[39m     io = \u001b[43mExcelFile\u001b[49m\u001b[43m(\u001b[49m\n\u001b[32m    496\u001b[39m \u001b[43m        \u001b[49m\u001b[43mio\u001b[49m\u001b[43m,\u001b[49m\n\u001b[32m    497\u001b[39m \u001b[43m        \u001b[49m\u001b[43mstorage_options\u001b[49m\u001b[43m=\u001b[49m\u001b[43mstorage_options\u001b[49m\u001b[43m,\u001b[49m\n\u001b[32m    498\u001b[39m \u001b[43m        \u001b[49m\u001b[43mengine\u001b[49m\u001b[43m=\u001b[49m\u001b[43mengine\u001b[49m\u001b[43m,\u001b[49m\n\u001b[32m    499\u001b[39m \u001b[43m        \u001b[49m\u001b[43mengine_kwargs\u001b[49m\u001b[43m=\u001b[49m\u001b[43mengine_kwargs\u001b[49m\u001b[43m,\u001b[49m\n\u001b[32m    500\u001b[39m \u001b[43m    \u001b[49m\u001b[43m)\u001b[49m\n\u001b[32m    501\u001b[39m \u001b[38;5;28;01melif\u001b[39;00m engine \u001b[38;5;129;01mand\u001b[39;00m engine != io.engine:\n\u001b[32m    502\u001b[39m     \u001b[38;5;28;01mraise\u001b[39;00m \u001b[38;5;167;01mValueError\u001b[39;00m(\n\u001b[32m    503\u001b[39m         \u001b[33m\"\u001b[39m\u001b[33mEngine should not be specified when passing \u001b[39m\u001b[33m\"\u001b[39m\n\u001b[32m    504\u001b[39m         \u001b[33m\"\u001b[39m\u001b[33man ExcelFile - ExcelFile already has the engine set\u001b[39m\u001b[33m\"\u001b[39m\n\u001b[32m    505\u001b[39m     )\n",
      "\u001b[36mFile \u001b[39m\u001b[32m~\\Documents\\my_project\\body-measurement-predictor\\venv\\Lib\\site-packages\\pandas\\io\\excel\\_base.py:1567\u001b[39m, in \u001b[36mExcelFile.__init__\u001b[39m\u001b[34m(self, path_or_buffer, engine, storage_options, engine_kwargs)\u001b[39m\n\u001b[32m   1564\u001b[39m \u001b[38;5;28mself\u001b[39m.engine = engine\n\u001b[32m   1565\u001b[39m \u001b[38;5;28mself\u001b[39m.storage_options = storage_options\n\u001b[32m-> \u001b[39m\u001b[32m1567\u001b[39m \u001b[38;5;28mself\u001b[39m._reader = \u001b[38;5;28;43mself\u001b[39;49m\u001b[43m.\u001b[49m\u001b[43m_engines\u001b[49m\u001b[43m[\u001b[49m\u001b[43mengine\u001b[49m\u001b[43m]\u001b[49m\u001b[43m(\u001b[49m\n\u001b[32m   1568\u001b[39m \u001b[43m    \u001b[49m\u001b[38;5;28;43mself\u001b[39;49m\u001b[43m.\u001b[49m\u001b[43m_io\u001b[49m\u001b[43m,\u001b[49m\n\u001b[32m   1569\u001b[39m \u001b[43m    \u001b[49m\u001b[43mstorage_options\u001b[49m\u001b[43m=\u001b[49m\u001b[43mstorage_options\u001b[49m\u001b[43m,\u001b[49m\n\u001b[32m   1570\u001b[39m \u001b[43m    \u001b[49m\u001b[43mengine_kwargs\u001b[49m\u001b[43m=\u001b[49m\u001b[43mengine_kwargs\u001b[49m\u001b[43m,\u001b[49m\n\u001b[32m   1571\u001b[39m \u001b[43m\u001b[49m\u001b[43m)\u001b[49m\n",
      "\u001b[36mFile \u001b[39m\u001b[32m~\\Documents\\my_project\\body-measurement-predictor\\venv\\Lib\\site-packages\\pandas\\io\\excel\\_openpyxl.py:553\u001b[39m, in \u001b[36mOpenpyxlReader.__init__\u001b[39m\u001b[34m(self, filepath_or_buffer, storage_options, engine_kwargs)\u001b[39m\n\u001b[32m    541\u001b[39m \u001b[38;5;250m\u001b[39m\u001b[33;03m\"\"\"\u001b[39;00m\n\u001b[32m    542\u001b[39m \u001b[33;03mReader using openpyxl engine.\u001b[39;00m\n\u001b[32m    543\u001b[39m \n\u001b[32m   (...)\u001b[39m\u001b[32m    550\u001b[39m \u001b[33;03m    Arbitrary keyword arguments passed to excel engine.\u001b[39;00m\n\u001b[32m    551\u001b[39m \u001b[33;03m\"\"\"\u001b[39;00m\n\u001b[32m    552\u001b[39m import_optional_dependency(\u001b[33m\"\u001b[39m\u001b[33mopenpyxl\u001b[39m\u001b[33m\"\u001b[39m)\n\u001b[32m--> \u001b[39m\u001b[32m553\u001b[39m \u001b[38;5;28;43msuper\u001b[39;49m\u001b[43m(\u001b[49m\u001b[43m)\u001b[49m\u001b[43m.\u001b[49m\u001b[34;43m__init__\u001b[39;49m\u001b[43m(\u001b[49m\n\u001b[32m    554\u001b[39m \u001b[43m    \u001b[49m\u001b[43mfilepath_or_buffer\u001b[49m\u001b[43m,\u001b[49m\n\u001b[32m    555\u001b[39m \u001b[43m    \u001b[49m\u001b[43mstorage_options\u001b[49m\u001b[43m=\u001b[49m\u001b[43mstorage_options\u001b[49m\u001b[43m,\u001b[49m\n\u001b[32m    556\u001b[39m \u001b[43m    \u001b[49m\u001b[43mengine_kwargs\u001b[49m\u001b[43m=\u001b[49m\u001b[43mengine_kwargs\u001b[49m\u001b[43m,\u001b[49m\n\u001b[32m    557\u001b[39m \u001b[43m\u001b[49m\u001b[43m)\u001b[49m\n",
      "\u001b[36mFile \u001b[39m\u001b[32m~\\Documents\\my_project\\body-measurement-predictor\\venv\\Lib\\site-packages\\pandas\\io\\excel\\_base.py:563\u001b[39m, in \u001b[36mBaseExcelReader.__init__\u001b[39m\u001b[34m(self, filepath_or_buffer, storage_options, engine_kwargs)\u001b[39m\n\u001b[32m    559\u001b[39m \u001b[38;5;28mself\u001b[39m.handles = IOHandles(\n\u001b[32m    560\u001b[39m     handle=filepath_or_buffer, compression={\u001b[33m\"\u001b[39m\u001b[33mmethod\u001b[39m\u001b[33m\"\u001b[39m: \u001b[38;5;28;01mNone\u001b[39;00m}\n\u001b[32m    561\u001b[39m )\n\u001b[32m    562\u001b[39m \u001b[38;5;28;01mif\u001b[39;00m \u001b[38;5;129;01mnot\u001b[39;00m \u001b[38;5;28misinstance\u001b[39m(filepath_or_buffer, (ExcelFile, \u001b[38;5;28mself\u001b[39m._workbook_class)):\n\u001b[32m--> \u001b[39m\u001b[32m563\u001b[39m     \u001b[38;5;28mself\u001b[39m.handles = \u001b[43mget_handle\u001b[49m\u001b[43m(\u001b[49m\n\u001b[32m    564\u001b[39m \u001b[43m        \u001b[49m\u001b[43mfilepath_or_buffer\u001b[49m\u001b[43m,\u001b[49m\u001b[43m \u001b[49m\u001b[33;43m\"\u001b[39;49m\u001b[33;43mrb\u001b[39;49m\u001b[33;43m\"\u001b[39;49m\u001b[43m,\u001b[49m\u001b[43m \u001b[49m\u001b[43mstorage_options\u001b[49m\u001b[43m=\u001b[49m\u001b[43mstorage_options\u001b[49m\u001b[43m,\u001b[49m\u001b[43m \u001b[49m\u001b[43mis_text\u001b[49m\u001b[43m=\u001b[49m\u001b[38;5;28;43;01mFalse\u001b[39;49;00m\n\u001b[32m    565\u001b[39m \u001b[43m    \u001b[49m\u001b[43m)\u001b[49m\n\u001b[32m    567\u001b[39m \u001b[38;5;28;01mif\u001b[39;00m \u001b[38;5;28misinstance\u001b[39m(\u001b[38;5;28mself\u001b[39m.handles.handle, \u001b[38;5;28mself\u001b[39m._workbook_class):\n\u001b[32m    568\u001b[39m     \u001b[38;5;28mself\u001b[39m.book = \u001b[38;5;28mself\u001b[39m.handles.handle\n",
      "\u001b[36mFile \u001b[39m\u001b[32m~\\Documents\\my_project\\body-measurement-predictor\\venv\\Lib\\site-packages\\pandas\\io\\common.py:882\u001b[39m, in \u001b[36mget_handle\u001b[39m\u001b[34m(path_or_buf, mode, encoding, compression, memory_map, is_text, errors, storage_options)\u001b[39m\n\u001b[32m    873\u001b[39m         handle = \u001b[38;5;28mopen\u001b[39m(\n\u001b[32m    874\u001b[39m             handle,\n\u001b[32m    875\u001b[39m             ioargs.mode,\n\u001b[32m   (...)\u001b[39m\u001b[32m    878\u001b[39m             newline=\u001b[33m\"\u001b[39m\u001b[33m\"\u001b[39m,\n\u001b[32m    879\u001b[39m         )\n\u001b[32m    880\u001b[39m     \u001b[38;5;28;01melse\u001b[39;00m:\n\u001b[32m    881\u001b[39m         \u001b[38;5;66;03m# Binary mode\u001b[39;00m\n\u001b[32m--> \u001b[39m\u001b[32m882\u001b[39m         handle = \u001b[38;5;28;43mopen\u001b[39;49m\u001b[43m(\u001b[49m\u001b[43mhandle\u001b[49m\u001b[43m,\u001b[49m\u001b[43m \u001b[49m\u001b[43mioargs\u001b[49m\u001b[43m.\u001b[49m\u001b[43mmode\u001b[49m\u001b[43m)\u001b[49m\n\u001b[32m    883\u001b[39m     handles.append(handle)\n\u001b[32m    885\u001b[39m \u001b[38;5;66;03m# Convert BytesIO or file objects passed with an encoding\u001b[39;00m\n",
      "\u001b[31mFileNotFoundError\u001b[39m: [Errno 2] No such file or directory: 'data/Analysis_Dataset_Body_Measurements_CM.xlsx'"
     ]
    }
   ],
   "source": [
    "file_path = \"data/Analysis_Dataset_Body_Measurements_CM.xlsx\"\n",
    "\n",
    "# Load the Excel file\n",
    "df = pd.read_excel(file_path, engine='openpyxl')  # 'engine' needed for .xlsx files\n",
    "\n",
    "print(\"📊 Dataset loaded successfully!\")\n",
    "print(\"\\n🔍 First 3 rows:\")\n",
    "display(df.head(3))  # Show a preview"
   ]
  },
  {
   "cell_type": "code",
   "execution_count": 4,
   "id": "869fbcc4-4ca1-422e-a3df-580d592a05c7",
   "metadata": {},
   "outputs": [
    {
     "name": "stdout",
     "output_type": "stream",
     "text": [
      "✅ openpyxl version: 3.1.5\n"
     ]
    }
   ],
   "source": [
    "import openpyxl\n",
    "print(\"✅ openpyxl version:\", openpyxl.__version__)"
   ]
  },
  {
   "cell_type": "code",
   "execution_count": 6,
   "id": "2a337402-d715-4544-b952-3c90179ac1b8",
   "metadata": {},
   "outputs": [],
   "source": [
    "file_path = \"data/Analysis_Dataset_Body_Measurements_CM.xlsx\""
   ]
  },
  {
   "cell_type": "code",
   "execution_count": null,
   "id": "8342c4c4-ef74-4baa-979e-29e673ab0738",
   "metadata": {},
   "outputs": [],
   "source": []
  },
  {
   "cell_type": "code",
   "execution_count": 7,
   "id": "69f8bedd-6a0c-4ae3-b304-d99257f77fe4",
   "metadata": {},
   "outputs": [],
   "source": [
    "file_path = r\"C:\\Users\\User\\Documents\\my_project\\body-measurement-predictor\\data\\Analysis_Dataset_Body_Measurements_CM.xlsx\""
   ]
  },
  {
   "cell_type": "code",
   "execution_count": 8,
   "id": "5bc7e5f1-1fe4-49a2-a426-d4e8c26c0294",
   "metadata": {},
   "outputs": [
    {
     "name": "stdout",
     "output_type": "stream",
     "text": [
      "Current Directory: C:\\Users\\User\\Documents\\my_project\\body-measurement-predictor\\notebooks\n",
      "\n",
      "Files in data/ folder:\n"
     ]
    },
    {
     "ename": "FileNotFoundError",
     "evalue": "[WinError 3] The system cannot find the path specified: 'data'",
     "output_type": "error",
     "traceback": [
      "\u001b[31m---------------------------------------------------------------------------\u001b[39m",
      "\u001b[31mFileNotFoundError\u001b[39m                         Traceback (most recent call last)",
      "\u001b[36mCell\u001b[39m\u001b[36m \u001b[39m\u001b[32mIn[8]\u001b[39m\u001b[32m, line 8\u001b[39m\n\u001b[32m      6\u001b[39m \u001b[38;5;66;03m# List files in data/ folder\u001b[39;00m\n\u001b[32m      7\u001b[39m \u001b[38;5;28mprint\u001b[39m(\u001b[33m\"\u001b[39m\u001b[38;5;130;01m\\n\u001b[39;00m\u001b[33mFiles in data/ folder:\u001b[39m\u001b[33m\"\u001b[39m)\n\u001b[32m----> \u001b[39m\u001b[32m8\u001b[39m \u001b[38;5;28mprint\u001b[39m(\u001b[43mos\u001b[49m\u001b[43m.\u001b[49m\u001b[43mlistdir\u001b[49m\u001b[43m(\u001b[49m\u001b[33;43m\"\u001b[39;49m\u001b[33;43mdata\u001b[39;49m\u001b[33;43m\"\u001b[39;49m\u001b[43m)\u001b[49m)\n",
      "\u001b[31mFileNotFoundError\u001b[39m: [WinError 3] The system cannot find the path specified: 'data'"
     ]
    }
   ],
   "source": [
    "import os\n",
    "\n",
    "# Print current working directory\n",
    "print(\"Current Directory:\", os.getcwd())\n",
    "\n",
    "# List files in data/ folder\n",
    "print(\"\\nFiles in data/ folder:\")\n",
    "print(os.listdir(\"data\"))"
   ]
  },
  {
   "cell_type": "code",
   "execution_count": 9,
   "id": "1e2ff070-09fe-4e47-86e2-362f66d23cbe",
   "metadata": {},
   "outputs": [],
   "source": [
    "file_path = \"../data/Analysis_Dataset_Body_Measurements_CM.xlsx\"\n",
    "df = pd.read_excel(file_path, engine='openpyxl')"
   ]
  },
  {
   "cell_type": "code",
   "execution_count": 10,
   "id": "3a823026-4f8e-43ee-9b6e-735feffbb09d",
   "metadata": {},
   "outputs": [
    {
     "name": "stdout",
     "output_type": "stream",
     "text": [
      "✅ File found!\n"
     ]
    }
   ],
   "source": [
    "from pathlib import Path\n",
    "\n",
    "file_path = Path(\"../data/Analysis_Dataset_Body_Measurements_CM.xlsx\")\n",
    "if file_path.exists():\n",
    "    print(\"✅ File found!\")\n",
    "else:\n",
    "    print(\"❌ File missing - check path:\", file_path.absolute())"
   ]
  },
  {
   "cell_type": "code",
   "execution_count": 11,
   "id": "a66f0025-0da1-4c22-863b-c9071ab0720b",
   "metadata": {},
   "outputs": [
    {
     "name": "stdout",
     "output_type": "stream",
     "text": [
      "Current folder: C:\\Users\\User\\Documents\\my_project\\body-measurement-predictor\\notebooks\n",
      "\n",
      "Parent folder contents:\n",
      "['.git', '.gitignore', '.ipynb_checkpoints', 'data', 'notebooks', 'README.md', 'requirements.txt', 'Untitled.ipynb', 'venv']\n"
     ]
    }
   ],
   "source": [
    "import os\n",
    "\n",
    "print(\"Current folder:\", os.getcwd())\n",
    "print(\"\\nParent folder contents:\")\n",
    "print(os.listdir(\"..\"))  # Should show 'data' and 'notebooks'"
   ]
  },
  {
   "cell_type": "code",
   "execution_count": 12,
   "id": "52b3e2b5-798e-48de-aa43-c959ea6afb46",
   "metadata": {},
   "outputs": [],
   "source": [
    "file_path = \"../data/Analysis_Dataset_Body_Measurements_CM.xlsx\""
   ]
  },
  {
   "cell_type": "code",
   "execution_count": 13,
   "id": "8524fcc9-d137-4364-bda7-6efa8f65122c",
   "metadata": {
    "scrolled": true
   },
   "outputs": [
    {
     "name": "stdout",
     "output_type": "stream",
     "text": [
      "✅ File found at: C:\\Users\\User\\Documents\\my_project\\body-measurement-predictor\\notebooks\\..\\data\\Analysis_Dataset_Body_Measurements_CM.xlsx\n",
      "\n",
      "🔍 First 3 rows:\n"
     ]
    },
    {
     "data": {
      "text/html": [
       "<div>\n",
       "<style scoped>\n",
       "    .dataframe tbody tr th:only-of-type {\n",
       "        vertical-align: middle;\n",
       "    }\n",
       "\n",
       "    .dataframe tbody tr th {\n",
       "        vertical-align: top;\n",
       "    }\n",
       "\n",
       "    .dataframe thead th {\n",
       "        text-align: right;\n",
       "    }\n",
       "</style>\n",
       "<table border=\"1\" class=\"dataframe\">\n",
       "  <thead>\n",
       "    <tr style=\"text-align: right;\">\n",
       "      <th></th>\n",
       "      <th>ID</th>\n",
       "      <th>Date Measured (YYYY-MM-DD)</th>\n",
       "      <th>Notes</th>\n",
       "      <th>Height (CM)</th>\n",
       "      <th>Chest (CM)</th>\n",
       "      <th>Bust (CM)</th>\n",
       "      <th>Waist (CM)</th>\n",
       "      <th>Hip (CM)</th>\n",
       "      <th>Waist_to_Hip (CM)</th>\n",
       "      <th>Bust_Height (CM)</th>\n",
       "      <th>...</th>\n",
       "      <th>Pant_Knee_Length (CM)</th>\n",
       "      <th>Pant_Calf_Length (CM)</th>\n",
       "      <th>Pant_Ankle_Length (CM)</th>\n",
       "      <th>Pant_High_Ankle_Length (CM)</th>\n",
       "      <th>Round_Thigh (CM)</th>\n",
       "      <th>Round_Knee (CM)</th>\n",
       "      <th>Round_Calf (CM)</th>\n",
       "      <th>Round_High_Ankle (CM)</th>\n",
       "      <th>Round_Ankle (CM)</th>\n",
       "      <th>Foot_Entry (CM)</th>\n",
       "    </tr>\n",
       "  </thead>\n",
       "  <tbody>\n",
       "    <tr>\n",
       "      <th>0</th>\n",
       "      <td>1</td>\n",
       "      <td>2015-03-01</td>\n",
       "      <td>NaN</td>\n",
       "      <td>NaN</td>\n",
       "      <td>88.0</td>\n",
       "      <td>92</td>\n",
       "      <td>73</td>\n",
       "      <td>107</td>\n",
       "      <td>25</td>\n",
       "      <td>27.0</td>\n",
       "      <td>...</td>\n",
       "      <td>64.0</td>\n",
       "      <td>NaN</td>\n",
       "      <td>106.0</td>\n",
       "      <td>NaN</td>\n",
       "      <td>NaN</td>\n",
       "      <td>NaN</td>\n",
       "      <td>36.0</td>\n",
       "      <td>22.0</td>\n",
       "      <td>27.0</td>\n",
       "      <td>30.0</td>\n",
       "    </tr>\n",
       "    <tr>\n",
       "      <th>1</th>\n",
       "      <td>2</td>\n",
       "      <td>2015-03-15</td>\n",
       "      <td>NaN</td>\n",
       "      <td>NaN</td>\n",
       "      <td>90.0</td>\n",
       "      <td>94</td>\n",
       "      <td>78</td>\n",
       "      <td>104</td>\n",
       "      <td>21</td>\n",
       "      <td>27.0</td>\n",
       "      <td>...</td>\n",
       "      <td>63.0</td>\n",
       "      <td>NaN</td>\n",
       "      <td>105.0</td>\n",
       "      <td>NaN</td>\n",
       "      <td>NaN</td>\n",
       "      <td>NaN</td>\n",
       "      <td>38.0</td>\n",
       "      <td>24.0</td>\n",
       "      <td>28.0</td>\n",
       "      <td>30.0</td>\n",
       "    </tr>\n",
       "    <tr>\n",
       "      <th>2</th>\n",
       "      <td>3</td>\n",
       "      <td>2015-03-15</td>\n",
       "      <td>NaN</td>\n",
       "      <td>NaN</td>\n",
       "      <td>88.0</td>\n",
       "      <td>95</td>\n",
       "      <td>75</td>\n",
       "      <td>99</td>\n",
       "      <td>25</td>\n",
       "      <td>26.0</td>\n",
       "      <td>...</td>\n",
       "      <td>60.0</td>\n",
       "      <td>NaN</td>\n",
       "      <td>103.0</td>\n",
       "      <td>NaN</td>\n",
       "      <td>NaN</td>\n",
       "      <td>NaN</td>\n",
       "      <td>38.0</td>\n",
       "      <td>25.0</td>\n",
       "      <td>30.0</td>\n",
       "      <td>30.0</td>\n",
       "    </tr>\n",
       "  </tbody>\n",
       "</table>\n",
       "<p>3 rows × 50 columns</p>\n",
       "</div>"
      ],
      "text/plain": [
       "   ID Date Measured (YYYY-MM-DD) Notes  Height (CM)  Chest (CM)  Bust (CM)  \\\n",
       "0   1                 2015-03-01   NaN          NaN        88.0         92   \n",
       "1   2                 2015-03-15   NaN          NaN        90.0         94   \n",
       "2   3                 2015-03-15   NaN          NaN        88.0         95   \n",
       "\n",
       "   Waist (CM)  Hip (CM)  Waist_to_Hip (CM)  Bust_Height (CM)  ...  \\\n",
       "0          73       107                 25              27.0  ...   \n",
       "1          78       104                 21              27.0  ...   \n",
       "2          75        99                 25              26.0  ...   \n",
       "\n",
       "   Pant_Knee_Length (CM)  Pant_Calf_Length (CM)  Pant_Ankle_Length (CM)  \\\n",
       "0                   64.0                    NaN                   106.0   \n",
       "1                   63.0                    NaN                   105.0   \n",
       "2                   60.0                    NaN                   103.0   \n",
       "\n",
       "   Pant_High_Ankle_Length (CM)  Round_Thigh (CM)  Round_Knee (CM)  \\\n",
       "0                          NaN               NaN              NaN   \n",
       "1                          NaN               NaN              NaN   \n",
       "2                          NaN               NaN              NaN   \n",
       "\n",
       "   Round_Calf (CM)  Round_High_Ankle (CM)  Round_Ankle (CM)  Foot_Entry (CM)  \n",
       "0             36.0                   22.0              27.0             30.0  \n",
       "1             38.0                   24.0              28.0             30.0  \n",
       "2             38.0                   25.0              30.0             30.0  \n",
       "\n",
       "[3 rows x 50 columns]"
      ]
     },
     "metadata": {},
     "output_type": "display_data"
    }
   ],
   "source": [
    "from pathlib import Path\n",
    "\n",
    "# Construct path\n",
    "file_path = Path(\"../data/Analysis_Dataset_Body_Measurements_CM.xlsx\")\n",
    "\n",
    "# Check existence\n",
    "if file_path.exists():\n",
    "    print(f\"✅ File found at: {file_path.absolute()}\")\n",
    "    df = pd.read_excel(file_path, engine='openpyxl')\n",
    "    print(\"\\n🔍 First 3 rows:\")\n",
    "    display(df.head(3))\n",
    "else:\n",
    "    print(f\"❌ File NOT FOUND at: {file_path.absolute()}\")\n",
    "    print(\"Please verify:\")\n",
    "    print(\"1. Exact filename match (case-sensitive)\")\n",
    "    print(\"2. File location in data/ folder\")"
   ]
  },
  {
   "cell_type": "code",
   "execution_count": 1,
   "id": "62211bd0-87d3-4256-96b0-a135185a38b3",
   "metadata": {},
   "outputs": [],
   "source": [
    "import pandas as pd  "
   ]
  },
  {
   "cell_type": "code",
   "execution_count": 2,
   "id": "c160413f-7898-404c-8642-fe93ae477888",
   "metadata": {},
   "outputs": [],
   "source": [
    "file_path = \"../data/Analysis_Dataset_Body_Measurements_CM.xlsx\"  \n",
    "sheets = pd.read_excel(file_path, sheet_name=None)  "
   ]
  },
  {
   "cell_type": "code",
   "execution_count": 3,
   "id": "45669371-46fe-493d-9546-c45b356b3f86",
   "metadata": {},
   "outputs": [
    {
     "ename": "NameError",
     "evalue": "name 'relationships' is not defined",
     "output_type": "error",
     "traceback": [
      "\u001b[31m---------------------------------------------------------------------------\u001b[39m",
      "\u001b[31mNameError\u001b[39m                                 Traceback (most recent call last)",
      "\u001b[36mCell\u001b[39m\u001b[36m \u001b[39m\u001b[32mIn[3]\u001b[39m\u001b[32m, line 1\u001b[39m\n\u001b[32m----> \u001b[39m\u001b[32m1\u001b[39m confirmed_ratio = \u001b[43mrelationships\u001b[49m.loc[...]  \n",
      "\u001b[31mNameError\u001b[39m: name 'relationships' is not defined"
     ]
    }
   ],
   "source": [
    "confirmed_ratio = relationships.loc[...]  "
   ]
  },
  {
   "cell_type": "code",
   "execution_count": 4,
   "id": "90c55210-2563-4a0a-bc18-97e9e530336c",
   "metadata": {},
   "outputs": [
    {
     "name": "stdout",
     "output_type": "stream",
     "text": [
      "✅ Sheets loaded!\n"
     ]
    }
   ],
   "source": [
    "# Load all sheets with EXACT names  \n",
    "file_path = \"../data/Analysis_Dataset_Body_Measurements_CM.xlsx\"  \n",
    "sheets = pd.read_excel(file_path, sheet_name=None)  \n",
    "\n",
    "# Assign sheets to variables with EXACT names  \n",
    "measurements = sheets['Measurement Dataset']  \n",
    "descriptions = sheets['Measurement Description']  # Capital 'D' in Description  \n",
    "relationships = sheets['Measurement Relationships']  \n",
    "\n",
    "print(\"✅ Sheets loaded!\")  "
   ]
  },
  {
   "cell_type": "code",
   "execution_count": 5,
   "id": "3e7bd6a6-938d-4a3d-af38-f011ca52dd97",
   "metadata": {},
   "outputs": [
    {
     "ename": "KeyError",
     "evalue": "'Relationship Name'",
     "output_type": "error",
     "traceback": [
      "\u001b[31m---------------------------------------------------------------------------\u001b[39m",
      "\u001b[31mKeyError\u001b[39m                                  Traceback (most recent call last)",
      "\u001b[36mFile \u001b[39m\u001b[32m~\\Documents\\my_project\\body-measurement-predictor\\venv\\Lib\\site-packages\\pandas\\core\\indexes\\base.py:3805\u001b[39m, in \u001b[36mIndex.get_loc\u001b[39m\u001b[34m(self, key)\u001b[39m\n\u001b[32m   3804\u001b[39m \u001b[38;5;28;01mtry\u001b[39;00m:\n\u001b[32m-> \u001b[39m\u001b[32m3805\u001b[39m     \u001b[38;5;28;01mreturn\u001b[39;00m \u001b[38;5;28;43mself\u001b[39;49m\u001b[43m.\u001b[49m\u001b[43m_engine\u001b[49m\u001b[43m.\u001b[49m\u001b[43mget_loc\u001b[49m\u001b[43m(\u001b[49m\u001b[43mcasted_key\u001b[49m\u001b[43m)\u001b[49m\n\u001b[32m   3806\u001b[39m \u001b[38;5;28;01mexcept\u001b[39;00m \u001b[38;5;167;01mKeyError\u001b[39;00m \u001b[38;5;28;01mas\u001b[39;00m err:\n",
      "\u001b[36mFile \u001b[39m\u001b[32mindex.pyx:167\u001b[39m, in \u001b[36mpandas._libs.index.IndexEngine.get_loc\u001b[39m\u001b[34m()\u001b[39m\n",
      "\u001b[36mFile \u001b[39m\u001b[32mindex.pyx:196\u001b[39m, in \u001b[36mpandas._libs.index.IndexEngine.get_loc\u001b[39m\u001b[34m()\u001b[39m\n",
      "\u001b[36mFile \u001b[39m\u001b[32mpandas\\\\_libs\\\\hashtable_class_helper.pxi:7081\u001b[39m, in \u001b[36mpandas._libs.hashtable.PyObjectHashTable.get_item\u001b[39m\u001b[34m()\u001b[39m\n",
      "\u001b[36mFile \u001b[39m\u001b[32mpandas\\\\_libs\\\\hashtable_class_helper.pxi:7089\u001b[39m, in \u001b[36mpandas._libs.hashtable.PyObjectHashTable.get_item\u001b[39m\u001b[34m()\u001b[39m\n",
      "\u001b[31mKeyError\u001b[39m: 'Relationship Name'",
      "\nThe above exception was the direct cause of the following exception:\n",
      "\u001b[31mKeyError\u001b[39m                                  Traceback (most recent call last)",
      "\u001b[36mCell\u001b[39m\u001b[36m \u001b[39m\u001b[32mIn[5]\u001b[39m\u001b[32m, line 4\u001b[39m\n\u001b[32m      1\u001b[39m \u001b[38;5;66;03m# Cell 4: Get confirmed waist-to-hip ratio from your relationships sheet  \u001b[39;00m\n\u001b[32m      2\u001b[39m \u001b[38;5;66;03m# Example (adjust to match your data):\u001b[39;00m\n\u001b[32m      3\u001b[39m confirmed_ratio = relationships.loc[\n\u001b[32m----> \u001b[39m\u001b[32m4\u001b[39m     \u001b[43mrelationships\u001b[49m\u001b[43m[\u001b[49m\u001b[33;43m'\u001b[39;49m\u001b[33;43mRelationship Name\u001b[39;49m\u001b[33;43m'\u001b[39;49m\u001b[43m]\u001b[49m == \u001b[33m'\u001b[39m\u001b[33mWaist_to_Hip_Ratio\u001b[39m\u001b[33m'\u001b[39m, \u001b[33m'\u001b[39m\u001b[33mValue\u001b[39m\u001b[33m'\u001b[39m\n\u001b[32m      5\u001b[39m ].values[\u001b[32m0\u001b[39m]  \u001b[38;5;66;03m# Replace with your actual relationship name\u001b[39;00m\n\u001b[32m      7\u001b[39m \u001b[38;5;28mprint\u001b[39m(\u001b[33mf\u001b[39m\u001b[33m\"\u001b[39m\u001b[33m✅ Using confirmed ratio: \u001b[39m\u001b[38;5;132;01m{\u001b[39;00mconfirmed_ratio\u001b[38;5;132;01m}\u001b[39;00m\u001b[33m\"\u001b[39m)\n",
      "\u001b[36mFile \u001b[39m\u001b[32m~\\Documents\\my_project\\body-measurement-predictor\\venv\\Lib\\site-packages\\pandas\\core\\frame.py:4102\u001b[39m, in \u001b[36mDataFrame.__getitem__\u001b[39m\u001b[34m(self, key)\u001b[39m\n\u001b[32m   4100\u001b[39m \u001b[38;5;28;01mif\u001b[39;00m \u001b[38;5;28mself\u001b[39m.columns.nlevels > \u001b[32m1\u001b[39m:\n\u001b[32m   4101\u001b[39m     \u001b[38;5;28;01mreturn\u001b[39;00m \u001b[38;5;28mself\u001b[39m._getitem_multilevel(key)\n\u001b[32m-> \u001b[39m\u001b[32m4102\u001b[39m indexer = \u001b[38;5;28;43mself\u001b[39;49m\u001b[43m.\u001b[49m\u001b[43mcolumns\u001b[49m\u001b[43m.\u001b[49m\u001b[43mget_loc\u001b[49m\u001b[43m(\u001b[49m\u001b[43mkey\u001b[49m\u001b[43m)\u001b[49m\n\u001b[32m   4103\u001b[39m \u001b[38;5;28;01mif\u001b[39;00m is_integer(indexer):\n\u001b[32m   4104\u001b[39m     indexer = [indexer]\n",
      "\u001b[36mFile \u001b[39m\u001b[32m~\\Documents\\my_project\\body-measurement-predictor\\venv\\Lib\\site-packages\\pandas\\core\\indexes\\base.py:3812\u001b[39m, in \u001b[36mIndex.get_loc\u001b[39m\u001b[34m(self, key)\u001b[39m\n\u001b[32m   3807\u001b[39m     \u001b[38;5;28;01mif\u001b[39;00m \u001b[38;5;28misinstance\u001b[39m(casted_key, \u001b[38;5;28mslice\u001b[39m) \u001b[38;5;129;01mor\u001b[39;00m (\n\u001b[32m   3808\u001b[39m         \u001b[38;5;28misinstance\u001b[39m(casted_key, abc.Iterable)\n\u001b[32m   3809\u001b[39m         \u001b[38;5;129;01mand\u001b[39;00m \u001b[38;5;28many\u001b[39m(\u001b[38;5;28misinstance\u001b[39m(x, \u001b[38;5;28mslice\u001b[39m) \u001b[38;5;28;01mfor\u001b[39;00m x \u001b[38;5;129;01min\u001b[39;00m casted_key)\n\u001b[32m   3810\u001b[39m     ):\n\u001b[32m   3811\u001b[39m         \u001b[38;5;28;01mraise\u001b[39;00m InvalidIndexError(key)\n\u001b[32m-> \u001b[39m\u001b[32m3812\u001b[39m     \u001b[38;5;28;01mraise\u001b[39;00m \u001b[38;5;167;01mKeyError\u001b[39;00m(key) \u001b[38;5;28;01mfrom\u001b[39;00m\u001b[38;5;250m \u001b[39m\u001b[34;01merr\u001b[39;00m\n\u001b[32m   3813\u001b[39m \u001b[38;5;28;01mexcept\u001b[39;00m \u001b[38;5;167;01mTypeError\u001b[39;00m:\n\u001b[32m   3814\u001b[39m     \u001b[38;5;66;03m# If we have a listlike key, _check_indexing_error will raise\u001b[39;00m\n\u001b[32m   3815\u001b[39m     \u001b[38;5;66;03m#  InvalidIndexError. Otherwise we fall through and re-raise\u001b[39;00m\n\u001b[32m   3816\u001b[39m     \u001b[38;5;66;03m#  the TypeError.\u001b[39;00m\n\u001b[32m   3817\u001b[39m     \u001b[38;5;28mself\u001b[39m._check_indexing_error(key)\n",
      "\u001b[31mKeyError\u001b[39m: 'Relationship Name'"
     ]
    }
   ],
   "source": [
    "# Cell 4: Get confirmed waist-to-hip ratio from your relationships sheet  \n",
    "# Example (adjust to match your data):\n",
    "confirmed_ratio = relationships.loc[\n",
    "    relationships['Relationship Name'] == 'Waist_to_Hip_Ratio', 'Value'\n",
    "].values[0]  # Replace with your actual relationship name\n",
    "\n",
    "print(f\"✅ Using confirmed ratio: {confirmed_ratio}\")"
   ]
  },
  {
   "cell_type": "code",
   "execution_count": 6,
   "id": "3869c803-e7c6-4bff-b5ed-d4610509f36a",
   "metadata": {},
   "outputs": [
    {
     "name": "stdout",
     "output_type": "stream",
     "text": [
      "✅ Sheets loaded successfully!\n",
      "- Measurement Dataset columns: ['ID', 'Date Measured (YYYY-MM-DD)', 'Notes', 'Height (CM)', 'Chest (CM)', 'Bust (CM)', 'Waist (CM)', 'Hip (CM)', 'Waist_to_Hip (CM)', 'Bust_Height (CM)', 'Breast_Distance (CM)', 'Bust_Radius (CM)', 'Shoulde_to_Underbust (CM)', 'Front_Waist_Length (CM)', 'Back_Waist_Length (CM)', 'Back_Width (CM)', 'Back_Shoulder (CM)', 'Armhole (CM)', 'Top_Arm (CM)', 'Round_Elbow (CM)', 'Wrist (CM)', 'Hand_Entry (CM)', 'Elbow_Length (CM)', 'Sleeve_Length (CM)', 'Dress_Knee_Length (CM)', 'Dress_Full_Length (CM)', 'Skirt_Knee_Length (CM)', 'Skirt_Full_Length (CM)', 'Neck_to_Sweetheart_Front (CM)', 'Neck_to_Sweetheart_Back (CM)', 'Round_Neck (CM)', 'Flare_Out (CM)', 'Walking_Step (CM)', 'Trouser_Waist (CM)', 'Trouser_HIP (CM)', 'Trouser_Waist_to_Hip (CM)', 'Body_Rise (CM)', 'Outseam (CM)', 'Inseam (CM)', 'Pant_Full_Length (CM)', 'Pant_Knee_Length (CM)', 'Pant_Calf_Length (CM)', 'Pant_Ankle_Length (CM)', 'Pant_High_Ankle_Length (CM)', 'Round_Thigh (CM)', 'Round_Knee (CM)', 'Round_Calf (CM)', 'Round_High_Ankle (CM)', 'Round_Ankle (CM)', 'Foot_Entry (CM)']\n",
      "- Relationships sheet preview:   Measurement Relationship Typical Proportion or Formula  \\\n",
      "0       Waist-to-Hip Ratio                   Waist ÷ Hip   \n",
      "1     Chest-to-Waist Ratio                 Chest ÷ Waist   \n",
      "\n",
      "                                   Notes and Sources  \n",
      "0  Typically 0.7 for women, 0.9 for men. Source: ...  \n",
      "1  Commonly used in sizing standards. Source: Cra...  \n"
     ]
    }
   ],
   "source": [
    "# In your notebook cell (run this first)\n",
    "import pandas as pd\n",
    "\n",
    "file_path = \"../data/Analysis_Dataset_Body_Measurements_CM.xlsx\"\n",
    "\n",
    "# Load all sheets with EXACT names from your Excel file\n",
    "sheets = pd.read_excel(file_path, sheet_name=None)\n",
    "\n",
    "# Assign sheets to variables (verify these names match your Excel tabs)\n",
    "measurements = sheets['Measurement Dataset']          # Exact match for Sheet 1\n",
    "descriptions = sheets['Measurement Description']      # Exact match for Sheet 2\n",
    "relationships = sheets['Measurement Relationships']   # Exact match for Sheet 3\n",
    "\n",
    "print(\"✅ Sheets loaded successfully!\")\n",
    "print(\"- Measurement Dataset columns:\", measurements.columns.tolist())\n",
    "print(\"- Relationships sheet preview:\", relationships.head(2))"
   ]
  },
  {
   "cell_type": "code",
   "execution_count": 7,
   "id": "f3215034-134d-477f-8fed-66bff0459882",
   "metadata": {},
   "outputs": [
    {
     "ename": "ValueError",
     "evalue": "could not convert string to float: 'Waist ÷ Hip'",
     "output_type": "error",
     "traceback": [
      "\u001b[31m---------------------------------------------------------------------------\u001b[39m",
      "\u001b[31mValueError\u001b[39m                                Traceback (most recent call last)",
      "\u001b[36mCell\u001b[39m\u001b[36m \u001b[39m\u001b[32mIn[7]\u001b[39m\u001b[32m, line 9\u001b[39m\n\u001b[32m      3\u001b[39m target_ratio = relationships.loc[\n\u001b[32m      4\u001b[39m     relationships[\u001b[33m'\u001b[39m\u001b[33mMeasurement Relationship\u001b[39m\u001b[33m'\u001b[39m] == \u001b[33m'\u001b[39m\u001b[33mWaist-to-Hip Ratio\u001b[39m\u001b[33m'\u001b[39m, \n\u001b[32m      5\u001b[39m     \u001b[33m'\u001b[39m\u001b[33mTypical Proportion or Formula\u001b[39m\u001b[33m'\u001b[39m\n\u001b[32m      6\u001b[39m ].values[\u001b[32m0\u001b[39m]\n\u001b[32m      8\u001b[39m \u001b[38;5;66;03m# Convert ratio to float (if stored as text like \"0.7\")\u001b[39;00m\n\u001b[32m----> \u001b[39m\u001b[32m9\u001b[39m target_ratio = \u001b[38;5;28;43mfloat\u001b[39;49m\u001b[43m(\u001b[49m\u001b[43mtarget_ratio\u001b[49m\u001b[43m.\u001b[49m\u001b[43msplit\u001b[49m\u001b[43m(\u001b[49m\u001b[33;43m'\u001b[39;49m\u001b[33;43m=\u001b[39;49m\u001b[33;43m'\u001b[39;49m\u001b[43m)\u001b[49m\u001b[43m[\u001b[49m\u001b[43m-\u001b[49m\u001b[32;43m1\u001b[39;49m\u001b[43m]\u001b[49m\u001b[43m.\u001b[49m\u001b[43mstrip\u001b[49m\u001b[43m(\u001b[49m\u001b[43m)\u001b[49m\u001b[43m)\u001b[49m  \n\u001b[32m     11\u001b[39m \u001b[38;5;66;03m# Fill missing hips using waist measurements\u001b[39;00m\n\u001b[32m     12\u001b[39m measurements[\u001b[33m'\u001b[39m\u001b[33mHip (CM)\u001b[39m\u001b[33m'\u001b[39m] = measurements.apply(\n\u001b[32m     13\u001b[39m     \u001b[38;5;28;01mlambda\u001b[39;00m row: row[\u001b[33m'\u001b[39m\u001b[33mWaist (CM)\u001b[39m\u001b[33m'\u001b[39m] / target_ratio \n\u001b[32m     14\u001b[39m     \u001b[38;5;28;01mif\u001b[39;00m pd.isna(row[\u001b[33m'\u001b[39m\u001b[33mHip (CM)\u001b[39m\u001b[33m'\u001b[39m]) \u001b[38;5;28;01melse\u001b[39;00m row[\u001b[33m'\u001b[39m\u001b[33mHip (CM)\u001b[39m\u001b[33m'\u001b[39m],\n\u001b[32m     15\u001b[39m     axis=\u001b[32m1\u001b[39m\n\u001b[32m     16\u001b[39m )\n",
      "\u001b[31mValueError\u001b[39m: could not convert string to float: 'Waist ÷ Hip'"
     ]
    }
   ],
   "source": [
    "# Get the confirmed waist-to-hip ratio (e.g., 0.7 for women)\n",
    "# Replace 'Waist_to_Hip_Ratio' with the exact name from your relationships sheet\n",
    "target_ratio = relationships.loc[\n",
    "    relationships['Measurement Relationship'] == 'Waist-to-Hip Ratio', \n",
    "    'Typical Proportion or Formula'\n",
    "].values[0]\n",
    "\n",
    "# Convert ratio to float (if stored as text like \"0.7\")\n",
    "target_ratio = float(target_ratio.split('=')[-1].strip())  \n",
    "\n",
    "# Fill missing hips using waist measurements\n",
    "measurements['Hip (CM)'] = measurements.apply(\n",
    "    lambda row: row['Waist (CM)'] / target_ratio \n",
    "    if pd.isna(row['Hip (CM)']) else row['Hip (CM)'],\n",
    "    axis=1\n",
    ")\n",
    "\n",
    "print(f\"✅ Filled missing hips using waist-to-hip ratio {target_ratio}!\")\n",
    "print(\"Remaining missing hips:\", measurements['Hip (CM)'].isnull().sum())"
   ]
  },
  {
   "cell_type": "code",
   "execution_count": 8,
   "id": "0ad4ea6c-f038-4b54-9751-1d3ae32678b2",
   "metadata": {},
   "outputs": [
    {
     "name": "stdout",
     "output_type": "stream",
     "text": [
      "✅ Hips calculated using Waist-to-Hip Ratio = 0.7\n",
      "Remaining missing hips: 0\n"
     ]
    }
   ],
   "source": [
    "# Set confirmed ratio (from your notes)\n",
    "WAIST_TO_HIP_RATIO = 0.7  # 0.7 for women (adjust if needed)\n",
    "\n",
    "# Calculate missing hips from waist measurements\n",
    "measurements['Hip (CM)'] = measurements.apply(\n",
    "    lambda row: row['Waist (CM)'] / WAIST_TO_HIP_RATIO \n",
    "    if pd.isna(row['Hip (CM)']) else row['Hip (CM)'],\n",
    "    axis=1\n",
    ")\n",
    "\n",
    "print(\"✅ Hips calculated using Waist-to-Hip Ratio = 0.7\")\n",
    "print(\"Remaining missing hips:\", measurements['Hip (CM)'].isnull().sum())"
   ]
  },
  {
   "cell_type": "code",
   "execution_count": 9,
   "id": "7d586a71-cfca-46ae-9b95-743a96c28d9b",
   "metadata": {},
   "outputs": [
    {
     "name": "stdout",
     "output_type": "stream",
     "text": [
      "Before Imputation:\n",
      "   Waist (CM)  Hip (CM)\n",
      "0          73       107\n",
      "1          78       104\n",
      "2          75        99\n",
      "3          97       124\n",
      "4          75       110\n",
      "5          88       108\n",
      "6          79       102\n",
      "7          68        90\n",
      "8          66        89\n",
      "9          67        93\n",
      "\n",
      "After Imputation:\n",
      "   Waist (CM)  Hip (CM)\n",
      "0          73       107\n",
      "1          78       104\n",
      "2          75        99\n",
      "3          97       124\n",
      "4          75       110\n",
      "5          88       108\n",
      "6          79       102\n",
      "7          68        90\n",
      "8          66        89\n",
      "9          67        93\n"
     ]
    }
   ],
   "source": [
    "# Check before/after\n",
    "print(\"Before Imputation:\")\n",
    "print(measurements[['Waist (CM)', 'Hip (CM)']].head(10))\n",
    "\n",
    "print(\"\\nAfter Imputation:\")\n",
    "print(measurements[['Waist (CM)', 'Hip (CM)']].head(10))"
   ]
  },
  {
   "cell_type": "code",
   "execution_count": 10,
   "id": "8e01abec-b8a5-4692-aa27-3625181a6a7f",
   "metadata": {},
   "outputs": [
    {
     "name": "stdout",
     "output_type": "stream",
     "text": [
      "Missing hips BEFORE: 0\n",
      "Missing hips AFTER: 0\n"
     ]
    }
   ],
   "source": [
    "# Check total missing hips before/after  \n",
    "print(\"Missing hips BEFORE:\", measurements['Hip (CM)'].isnull().sum())  \n",
    "print(\"Missing hips AFTER:\", measurements['Hip (CM)'].isnull().sum())  "
   ]
  },
  {
   "cell_type": "code",
   "execution_count": 11,
   "id": "67f1684a-b704-405c-9236-b957761a375b",
   "metadata": {},
   "outputs": [],
   "source": [
    "# Example: Inseam ≈ 0.45 × Height (from your sheet)\n",
    "measurements['Inseam (CM)'] = measurements.apply(\n",
    "    lambda row: row['Height (CM)'] * 0.45 \n",
    "    if pd.isna(row['Inseam (CM)']) else row['Inseam (CM)'],\n",
    "    axis=1\n",
    ")\n",
    "\n",
    "# Repeat for other confirmed relationships (Arm Span ≈ Height, etc.)"
   ]
  },
  {
   "cell_type": "code",
   "execution_count": 12,
   "id": "2c63b443-8245-478e-9a9f-f0f99e219454",
   "metadata": {},
   "outputs": [],
   "source": [
    "# Filter only CONFIRMED relationships (adjust as needed)  \n",
    "confirmed_relationships = relationships[  \n",
    "    relationships['Notes and Sources'].str.contains(\"confirmed\", case=False)  \n",
    "]  \n",
    "\n",
    "# Example output:  \n",
    "# Measurement Relationship | Typical Proportion or Formula  \n",
    "# ---------------------------------------------------------  \n",
    "# Waist-to-Hip Ratio       | Waist ÷ Hip  \n",
    "# Inseam-to-Height         | Inseam ≈ 0.45 × Height  "
   ]
  },
  {
   "cell_type": "code",
   "execution_count": 13,
   "id": "b849bfec-c314-41ee-b123-50cfe64cba9d",
   "metadata": {},
   "outputs": [
    {
     "ename": "NameError",
     "evalue": "name 'df' is not defined",
     "output_type": "error",
     "traceback": [
      "\u001b[31m---------------------------------------------------------------------------\u001b[39m",
      "\u001b[31mNameError\u001b[39m                                 Traceback (most recent call last)",
      "\u001b[36mCell\u001b[39m\u001b[36m \u001b[39m\u001b[32mIn[13]\u001b[39m\u001b[32m, line 18\u001b[39m\n\u001b[32m     15\u001b[39m \u001b[38;5;66;03m# Apply all rules  \u001b[39;00m\n\u001b[32m     16\u001b[39m \u001b[38;5;28;01mfor\u001b[39;00m name, rule \u001b[38;5;129;01min\u001b[39;00m relationship_rules.items():  \n\u001b[32m     17\u001b[39m     \u001b[38;5;66;03m# Fill missing target_col using formula if source_cols are present  \u001b[39;00m\n\u001b[32m---> \u001b[39m\u001b[32m18\u001b[39m     mask = \u001b[43mdf\u001b[49m[rule[\u001b[33m'\u001b[39m\u001b[33mtarget_col\u001b[39m\u001b[33m'\u001b[39m]].isna() & df[rule[\u001b[33m'\u001b[39m\u001b[33msource_cols\u001b[39m\u001b[33m'\u001b[39m]].notna().all(axis=\u001b[32m1\u001b[39m)  \n\u001b[32m     19\u001b[39m     df.loc[mask, rule[\u001b[33m'\u001b[39m\u001b[33mtarget_col\u001b[39m\u001b[33m'\u001b[39m]] = df[mask].apply(rule[\u001b[33m'\u001b[39m\u001b[33mformula\u001b[39m\u001b[33m'\u001b[39m], axis=\u001b[32m1\u001b[39m)  \n",
      "\u001b[31mNameError\u001b[39m: name 'df' is not defined"
     ]
    }
   ],
   "source": [
    "# Define relationship logic as a dictionary  \n",
    "relationship_rules = {  \n",
    "    'Waist-to-Hip Ratio': {  \n",
    "        'formula': lambda row: row['Waist (CM)'] / 0.7,  \n",
    "        'target_col': 'Hip (CM)',  \n",
    "        'source_cols': ['Waist (CM)']  \n",
    "    },  \n",
    "    'Inseam-to-Height': {  \n",
    "        'formula': lambda row: row['Height (CM)'] * 0.45,  \n",
    "        'target_col': 'Inseam (CM)',  \n",
    "        'source_cols': ['Height (CM)']  \n",
    "    }  \n",
    "}  \n",
    "\n",
    "# Apply all rules  \n",
    "for name, rule in relationship_rules.items():  \n",
    "    # Fill missing target_col using formula if source_cols are present  \n",
    "    mask = df[rule['target_col']].isna() & df[rule['source_cols']].notna().all(axis=1)  \n",
    "    df.loc[mask, rule['target_col']] = df[mask].apply(rule['formula'], axis=1)  "
   ]
  },
  {
   "cell_type": "code",
   "execution_count": 14,
   "id": "74688e35-ec8e-49a3-bcd0-ccdec2b94ee9",
   "metadata": {},
   "outputs": [
    {
     "ename": "SyntaxError",
     "evalue": "'(' was never closed (468896810.py, line 18)",
     "output_type": "error",
     "traceback": [
      "  \u001b[36mCell\u001b[39m\u001b[36m \u001b[39m\u001b[32mIn[14]\u001b[39m\u001b[32m, line 18\u001b[39m\n\u001b[31m    \u001b[39m\u001b[31mmask = (\u001b[39m\n           ^\n\u001b[31mSyntaxError\u001b[39m\u001b[31m:\u001b[39m '(' was never closed\n"
     ]
    }
   ],
   "source": [
    "# Define relationship rules using YOUR dataframe name 'measurements'\n",
    "relationship_rules = {\n",
    "    'Waist-to-Hip Ratio': {\n",
    "        'formula': lambda row: row['Waist (CM)'] / 0.7,\n",
    "        'target_col': 'Hip (CM)',\n",
    "        'source_cols': ['Waist (CM)']\n",
    "    },\n",
    "    'Inseam-to-Height': {\n",
    "        'formula': lambda row: row['Height (CM)'] * 0.45,\n",
    "        'target_col': 'Inseam (CM)',\n",
    "        'source_cols': ['Height (CM)']\n",
    "    }\n",
    "}\n",
    "\n",
    "# Apply all rules to your measurements dataframe\n",
    "for name, rule in relationship_rules.items():\n",
    "    # Create mask: missing target AND available sources\n",
    "    mask = (\n",
    "        measurements[rule['target_col']].isna() & \n",
    "        measurements[rule['source_cols']].notna().all(axis=1)\n",
    "    \n",
    "    # Apply formula where mask is True\n",
    "    measurements.loc[mask, rule['target_col']] = measurements[mask].apply(rule['formula'], axis=1)\n",
    "\n",
    "print(\"✅ Applied expert relationships!\")"
   ]
  },
  {
   "cell_type": "code",
   "execution_count": 15,
   "id": "36dba3fc-fb0c-4c5b-9022-8a82aefc02de",
   "metadata": {},
   "outputs": [],
   "source": [
    "measurements = sheets['Measurement Dataset']  # This is your DataFrame  "
   ]
  },
  {
   "cell_type": "code",
   "execution_count": 16,
   "id": "40aae88c-e02b-48ce-a477-5d5317c362e4",
   "metadata": {},
   "outputs": [
    {
     "name": "stdout",
     "output_type": "stream",
     "text": [
      "  Measurement Relationship Typical Proportion or Formula  \\\n",
      "0       Waist-to-Hip Ratio                   Waist ÷ Hip   \n",
      "1     Chest-to-Waist Ratio                 Chest ÷ Waist   \n",
      "2         Inseam-to-Height        Inseam ≈ 0.45 × Height   \n",
      "\n",
      "                                   Notes and Sources  \n",
      "0  Typically 0.7 for women, 0.9 for men. Source: ...  \n",
      "1  Commonly used in sizing standards. Source: Cra...  \n",
      "2  Proportional for average body types. Source: V...  \n"
     ]
    }
   ],
   "source": [
    "relationships = sheets['Measurement Relationships']  \n",
    "\n",
    "# Preview  \n",
    "print(relationships.head(3))  "
   ]
  },
  {
   "cell_type": "code",
   "execution_count": 17,
   "id": "3403face-6979-42f6-babf-cde0640642c3",
   "metadata": {},
   "outputs": [
    {
     "name": "stdout",
     "output_type": "stream",
     "text": [
      "Target: Inseam\n",
      "Formula: <function parse_formula.<locals>.<lambda> at 0x0000023C29E08220>\n"
     ]
    }
   ],
   "source": [
    "import re  \n",
    "\n",
    "def parse_formula(formula_str):  \n",
    "    \"\"\"Convert formulas like 'Inseam ≈ 0.45 × Height' to Python lambdas\"\"\"  \n",
    "    formula_str = formula_str.replace('≈', '=').replace('×', '*')  \n",
    "    parts = re.split(r'=| ', formula_str.strip())  \n",
    "    target_col = parts[0].strip()  \n",
    "    expression = ''.join(parts[1:]).strip()  \n",
    "    return target_col, lambda row: eval(expression, {}, {'row': row})  \n",
    "\n",
    "# Example usage:  \n",
    "target_col, formula = parse_formula(\"Inseam ≈ 0.45 × Height\")  \n",
    "print(\"Target:\", target_col)  # Output: Inseam  \n",
    "print(\"Formula:\", formula)    # Output: lambda function  "
   ]
  },
  {
   "cell_type": "code",
   "execution_count": 18,
   "id": "c4c79900-48ed-4788-b387-e4a5b9b16859",
   "metadata": {},
   "outputs": [
    {
     "ename": "SyntaxError",
     "evalue": "'(' was never closed (3227649952.py, line 10)",
     "output_type": "error",
     "traceback": [
      "  \u001b[36mCell\u001b[39m\u001b[36m \u001b[39m\u001b[32mIn[18]\u001b[39m\u001b[32m, line 10\u001b[39m\n\u001b[31m    \u001b[39m\u001b[31mmask = (\u001b[39m\n           ^\n\u001b[31mSyntaxError\u001b[39m\u001b[31m:\u001b[39m '(' was never closed\n"
     ]
    }
   ],
   "source": [
    "for idx, row in relationships.iterrows():  \n",
    "    try:  \n",
    "        # Parse formula  \n",
    "        target_col, formula = parse_formula(row['Typical Proportion or Formula'])  \n",
    "        target_col += ' (CM)'  # Match your column names (e.g., \"Inseam (CM)\")  \n",
    "        source_cols = re.findall(r'\\b[A-Za-z_]+\\b', row['Typical Proportion or Formula'])  \n",
    "        source_cols = [f\"{col} (CM)\" for col in source_cols if col != target_col.split()[0]]  \n",
    "\n",
    "        # Create mask  \n",
    "        mask = (  \n",
    "            measurements[target_col].isna() &  \n",
    "            measurements[source_cols].notna().all(axis=1)  \n",
    "\n",
    "        # Apply formula  \n",
    "        measurements.loc[mask, target_col] = measurements[mask].apply(formula, axis=1)  \n",
    "\n",
    "        print(f\"✅ Applied: {row['Measurement Relationship']}\")  \n",
    "    except Exception as e:  \n",
    "        print(f\"❌ Failed: {row['Measurement Relationship']} - {str(e)}\")  "
   ]
  },
  {
   "cell_type": "code",
   "execution_count": 20,
   "id": "0787a96f-1de8-4468-8bcf-b4c0b3b1c781",
   "metadata": {},
   "outputs": [
    {
     "name": "stdout",
     "output_type": "stream",
     "text": [
      "✅ Applied: Waist-to-Hip Ratio\n",
      "✅ Applied: Chest-to-Waist Ratio\n",
      "✅ Applied: Inseam-to-Height\n",
      "❌ Failed: Arm Span to Height\n",
      "   Error: 'Arm (CM)'\n",
      "   Formula: Arm Span = Height\n",
      "❌ Failed: Shoulder Width to Bust\n",
      "   Error: 'Shoulder (CM)'\n",
      "   Formula: Shoulder Width = Bust Width\n",
      "✅ Applied: Bust Height to Bust Radius\n",
      "❌ Failed: Dress Length to Skirt Length + Waist\n",
      "   Error: 'Dress (CM)'\n",
      "   Formula: Dress Length = Front Waist Length + Skirt Length\n",
      "❌ Failed: Neck Circumference to Waist\n",
      "   Error: 'Neck (CM)'\n",
      "   Formula: Neck = 0.37 * Waist\n",
      "❌ Failed: Thigh Circumference to Hip\n",
      "   Error: 'Thigh (CM)'\n",
      "   Formula: Thigh = 0.6 * Hip\n",
      "❌ Failed: Shoulder-to-Waist Length\n",
      "   Error: 'Shoulder (CM)'\n",
      "   Formula: Shoulder-to-Waist = 0.26 * Height\n",
      "❌ Failed: Neck to Hip Length\n",
      "   Error: 'Neck (CM)'\n",
      "   Formula: Neck to Hip = 0.6 * Height\n",
      "❌ Failed: Upper Arm Circumference to Bust\n",
      "   Error: 'Upper (CM)'\n",
      "   Formula: Upper Arm = 0.2 * Bust\n",
      "✅ Applied: Waist to Height\n",
      "❌ Failed: Body Rise\n",
      "   Error: 'Body (CM)'\n",
      "   Formula: Body Rise = Outseam - Inseam\n",
      "❌ Failed: Knee Circumference to Hip\n",
      "   Error: 'Knee (CM)'\n",
      "   Formula: Knee = 0.5 * Hip\n",
      "✅ Applied: Waist-to-Chest Length\n",
      "❌ Failed: Foot Length to Height\n",
      "   Error: 'Foot (CM)'\n",
      "   Formula: Foot = 0.15 * Height\n",
      "❌ Failed: Hand Span to Height\n",
      "   Error: 'Hand (CM)'\n",
      "   Formula: Hand Span = 0.1 * Height\n",
      "❌ Failed: Forearm Length to Height\n",
      "   Error: 'Forearm (CM)'\n",
      "   Formula: Forearm = 0.15 * Height\n",
      "❌ Failed: Head Circumference to Height\n",
      "   Error: 'Head (CM)'\n",
      "   Formula: Head Circumference = 0.125 * Height\n",
      "❌ Failed: Shoulder-to-Hip Ratio\n",
      "   Error: 'Shoulder (CM)'\n",
      "   Formula: Shoulder Width / Hip Width\n",
      "❌ Failed: Shoulder-to-Waist Ratio\n",
      "   Error: 'Shoulder (CM)'\n",
      "   Formula: Shoulder Width / Waist Circumference\n",
      "❌ Failed: Sleeve Length to Height\n",
      "   Error: 'Sleeve (CM)'\n",
      "   Formula: Sleeve Length = 0.28 * Height\n",
      "❌ Failed: Elbow Circumference to Height\n",
      "   Error: 'Elbow (CM)'\n",
      "   Formula: Elbow Circumference = 0.08 * Height\n",
      "❌ Failed: Neck to Shoulder Length\n",
      "   Error: 'Neck (CM)'\n",
      "   Formula: Neck to Shoulder = 0.12 * Height\n",
      "❌ Failed: Front Waist Length to Back Waist\n",
      "   Error: 'Front (CM)'\n",
      "   Formula: Front Waist = 1.2 * Back Waist\n",
      "❌ Failed: Skirt Length to Height\n",
      "   Error: 'Skirt (CM)'\n",
      "   Formula: Skirt Length = 0.4 * Height\n",
      "❌ Failed: Head Height to Body Height\n",
      "   Error: 'Head (CM)'\n",
      "   Formula: Head Height = 0.125 * Height\n",
      "❌ Failed: Hand Length to Forearm Length\n",
      "   Error: 'Hand (CM)'\n",
      "   Formula: Hand Length = 0.9 * Forearm Length\n",
      "✅ Applied: Chest Depth to Chest Width\n",
      "❌ Failed: Neck Circumference to Head Circumference\n",
      "   Error: 'Neck (CM)'\n",
      "   Formula: Neck Circumference = 0.5 * Head Circumference\n",
      "❌ Failed: Calf Circumference to Thigh Circumference\n",
      "   Error: 'Calf (CM)'\n",
      "   Formula: Calf = 0.7 * Thigh\n",
      "✅ Applied: Hip to Bust Ratio\n",
      "✅ Applied: Height to Shoulder Breadth\n",
      "❌ Failed: Forearm Circumference to Upper Arm Circumference\n",
      "   Error: 'Forearm (CM)'\n",
      "   Formula: Forearm = 0.85 * Upper Arm\n",
      "✅ Applied: Waist to Inseam\n",
      "✅ Applied: Hip Height to Height\n",
      "❌ Failed: Palm Width to Hand Length\n",
      "   Error: 'Palm (CM)'\n",
      "   Formula: Palm Width = 0.4 * Hand Length\n",
      "❌ Failed: Ankle Circumference to Calf Circumference\n",
      "   Error: 'Ankle (CM)'\n",
      "   Formula: Ankle = 0.6 * Calf\n",
      "❌ Failed: Shoulder Slope Angle\n",
      "   Error: 'Shoulder (CM)'\n",
      "   Formula: Shoulder Slope = 15–20 degrees\n",
      "✅ Applied: Waist-to-Hem Length\n",
      "✅ Applied: Bust Point Distance to Bust Width\n",
      "❌ Failed: Sleeve Cap Height to Armhole\n",
      "   Error: 'Sleeve (CM)'\n",
      "   Formula: Sleeve Cap Height = 0.5 * Armhole Depth\n",
      "❌ Failed: Neck to Elbow Length\n",
      "   Error: 'Neck (CM)'\n",
      "   Formula: Neck to Elbow = 0.25 * Height\n",
      "❌ Failed: Thigh to Waist Ratio\n",
      "   Error: 'Thigh (CM)'\n",
      "   Formula: Thigh Circumference / Waist Circumference\n",
      "❌ Failed: Foot Arch Height to Foot Length\n",
      "   Error: 'Arch (CM)'\n",
      "   Formula: Arch Height = 0.1 * Foot Length\n",
      "✅ Applied: Bust Width to Waist Width\n",
      "❌ Failed: Shoulder Width to Armhole Depth\n",
      "   Error: 'Shoulder (CM)'\n",
      "   Formula: Shoulder Width = 2 * Armhole Depth\n",
      "✅ Applied: Hip Width to Shoulder Width\n",
      "❌ Failed: Back Shoulder Width to Front Shoulder Width\n",
      "   Error: 'Back (CM)'\n",
      "   Formula: Back Shoulder = 1.2 * Front Shoulder\n",
      "✅ Applied: Bust Height to Waist Height\n",
      "✅ Applied: Inseam to Knee Height\n",
      "❌ Failed: Forearm Length to Upper Arm Length\n",
      "   Error: 'Forearm (CM)'\n",
      "   Formula: Forearm = 0.85 * Upper Arm Length\n",
      "❌ Failed: Neck Height to Shoulder Width\n",
      "   Error: 'Neck (CM)'\n",
      "   Formula: Neck Height = 0.3 * Shoulder Width\n",
      "✅ Applied: Waist to Thigh Ratio\n",
      "❌ Failed: Shoulder Angle to Bust Width\n",
      "   Error: 'Shoulder (CM)'\n",
      "   Formula: Shoulder Angle = 0.1 * Bust Width\n",
      "❌ Failed: Armhole Depth to Bust Circumference\n",
      "   Error: invalid syntax (<string>, line 1)\n",
      "   Formula: Armhole Depth = 0.2 * Bust Circumference\n",
      "❌ Failed: Wrist Circumference to Hand Length\n",
      "   Error: invalid syntax (<string>, line 1)\n",
      "   Formula: Wrist Circumference = 0.4 * Hand Length\n",
      "✅ Applied: Height to Weight Ratio\n",
      "❌ Failed: Head Width to Height\n",
      "   Error: 'Head (CM)'\n",
      "   Formula: Head Width = 0.8 * Head Height\n",
      "❌ Failed: Shoulder Width to Waist Height\n",
      "   Error: 'Shoulder (CM)'\n",
      "   Formula: Shoulder Width = 1.2 * Waist Height\n",
      "❌ Failed: Back Neck Width to Bust Width\n",
      "   Error: 'Back (CM)'\n",
      "   Formula: Back Neck Width = 0.1 * Bust Width\n",
      "❌ Failed: Front Neck Width to Back Neck Width\n",
      "   Error: 'Front (CM)'\n",
      "   Formula: Front Neck Width = 0.9 * Back Neck Width\n",
      "❌ Failed: Waistline Angle\n",
      "   Error: 'Waistline (CM)'\n",
      "   Formula: Waistline Slope = 10–15 degrees\n",
      "❌ Failed: Knee-to-Ankle Length\n",
      "   Error: 'Knee (CM)'\n",
      "   Formula: Knee-to-Ankle = 0.4 * Height\n",
      "❌ Failed: Shoulder-to-Elbow Length\n",
      "   Error: 'Shoulder (CM)'\n",
      "   Formula: Shoulder to Elbow = 0.25 * Height\n",
      "❌ Failed: Elbow-to-Wrist Length\n",
      "   Error: 'Elbow (CM)'\n",
      "   Formula: Elbow to Wrist = 0.2 * Height\n",
      "❌ Failed: Head Depth to Head Height\n",
      "   Error: 'Head (CM)'\n",
      "   Formula: Head Depth = 0.7 * Head Height\n",
      "❌ Failed: Palm Length to Hand Length\n",
      "   Error: 'Palm (CM)'\n",
      "   Formula: Palm Length = 0.6 * Hand Length\n",
      "❌ Failed: Thigh Girth to Waist\n",
      "   Error: 'Thigh (CM)'\n",
      "   Formula: Thigh Circumference = 1.5 * Waist Circumference\n",
      "❌ Failed: Wrist to Forearm Girth Ratio\n",
      "   Error: invalid syntax (<string>, line 1)\n",
      "   Formula: Wrist Girth = 0.7 * Forearm Girth\n",
      "✅ Applied: Waist to Chest Difference\n",
      "✅ Applied: Bust Point Height to Bust Girth\n",
      "❌ Failed: Hip to Knee Ratio\n",
      "   Error: 'Knee (CM)'\n",
      "   Formula: Knee Height = 0.45 * Hip Height\n",
      "❌ Failed: Shoulder Width to Arm Span\n",
      "   Error: 'Shoulder (CM)'\n",
      "   Formula: Shoulder Width = 0.25 * Arm Span\n",
      "❌ Failed: Thigh to Calf Girth Ratio\n",
      "   Error: 'Thigh (CM)'\n",
      "   Formula: Thigh Circumference = 1.5 * Calf Circumference\n",
      "❌ Failed: Neck Length to Shoulder Length\n",
      "   Error: 'Neck (CM)'\n",
      "   Formula: Neck Length = 0.4 * Shoulder Length\n",
      "❌ Failed: Upper Arm to Armhole Depth\n",
      "   Error: 'Upper (CM)'\n",
      "   Formula: Upper Arm Circumference = 1.2 * Armhole Depth\n",
      "❌ Failed: Body Rise to Waist\n",
      "   Error: 'Body (CM)'\n",
      "   Formula: Body Rise = 0.35 * Waist Circumference\n",
      "❌ Failed: Back Waist to Front Waist Ratio\n",
      "   Error: 'Back (CM)'\n",
      "   Formula: Back Waist Length = 0.85 * Front Waist Length\n",
      "❌ Failed: Front Neck Drop to Back Neck Drop\n",
      "   Error: 'Front (CM)'\n",
      "   Formula: Front Neck Drop = 2 * Back Neck Drop\n",
      "✅ Applied: Hip Height to Waist Height\n",
      "✅ Applied: Hip Width to Waist Width\n",
      "❌ Failed: Hand Width to Arm Span\n",
      "   Error: 'Hand (CM)'\n",
      "   Formula: Hand Width = 0.1 * Arm Span\n",
      "❌ Failed: Forearm Girth to Wrist Girth Ratio\n",
      "   Error: 'Forearm (CM)'\n",
      "   Formula: Forearm Circumference = 1.5 * Wrist Circumference\n",
      "❌ Failed: Neck Height to Torso Height\n",
      "   Error: 'Neck (CM)'\n",
      "   Formula: Neck Height = 0.15 * Torso Height\n",
      "✅ Applied: Bust to Waist-to-Hip Difference\n",
      "❌ Failed: Shoulder Angle to Torso Width\n",
      "   Error: 'Shoulder (CM)'\n",
      "   Formula: Shoulder Angle = 15–20 degrees\n",
      "✅ Applied: Waist-to-Hem Ratio\n",
      "❌ Failed: Armhole Depth to Torso Height\n",
      "   Error: invalid syntax (<string>, line 1)\n",
      "   Formula: Armhole Depth = 0.2 * Torso Height\n",
      "❌ Failed: Thigh Height to Waist Height\n",
      "   Error: 'Thigh (CM)'\n",
      "   Formula: Thigh Height = 1.1 * Waist Height\n",
      "✅ Applied: Bust Span to Bust Width\n",
      "✅ Applied: Chest Width to Torso Width\n",
      "❌ Failed: Elbow Girth to Forearm Girth\n",
      "   Error: 'Elbow (CM)'\n",
      "   Formula: Elbow Girth = 1.1 * Forearm Girth\n",
      "❌ Failed: Hand Girth to Palm Width\n",
      "   Error: 'Hand (CM)'\n",
      "   Formula: Hand Girth = 2.5 * Palm Width\n",
      "✅ Applied: Waist Girth to Neck Girth\n",
      "❌ Failed: Shoulder to Bust Point Height\n",
      "   Error: 'Shoulder (CM)'\n",
      "   Formula: Shoulder to Bust Point = 0.25 * Height\n",
      "❌ Failed: Back Waist Girth to Front Waist Girth\n",
      "   Error: 'Back (CM)'\n",
      "   Formula: Back Waist = 0.85 * Front Waist\n",
      "❌ Failed: Torso Height to Total Height\n",
      "   Error: 'Torso (CM)'\n",
      "   Formula: Torso Height = 0.5 * Total Height\n",
      "✅ Applied: Hip to Calf Ratio\n",
      "❌ Failed: Neck Width to Chest Width\n",
      "   Error: 'Neck (CM)'\n",
      "   Formula: Neck Width = 0.25 * Chest Width\n",
      "❌ Failed: Ankle Height to Knee Height\n",
      "   Error: 'Ankle (CM)'\n",
      "   Formula: Ankle Height = 0.4 * Knee Height\n",
      "❌ Failed: Shoulder Slope to Armhole Depth\n",
      "   Error: 'Shoulder (CM)'\n",
      "   Formula: Shoulder Slope = 0.1 * Armhole Depth\n",
      "✅ Applied: Bust Girth to Waist Girth Ratio\n",
      "❌ Failed: Wrist Circumference to Arm Span\n",
      "   Error: invalid syntax (<string>, line 1)\n",
      "   Formula: Wrist Circumference = 0.06 * Arm Span\n",
      "✅ Applied: Waist-to-Knee Ratio\n",
      "✅ Applied: Hip Width to Knee Width\n",
      "✅ Applied: Chest Depth to Back Width\n",
      "❌ Failed: Neck-to-Shoulder Width Ratio\n",
      "   Error: 'Neck (CM)'\n",
      "   Formula: Neck Width = 0.3 * Shoulder Width\n",
      "❌ Failed: Torso Girth to Total Girth Ratio\n",
      "   Error: 'Torso (CM)'\n",
      "   Formula: Torso Girth = 0.6 * Total Girth\n",
      "❌ Failed: Thigh Width to Total Width Ratio\n",
      "   Error: 'Thigh (CM)'\n",
      "   Formula: Thigh Width = 0.15 * Total Width\n",
      "❌ Failed: Head Circumference to Neck Length\n",
      "   Error: 'Head (CM)'\n",
      "   Formula: Head Circumference = 3 * Neck Length\n",
      "❌ Failed: Total Arm Length to Height\n",
      "   Error: 'Total (CM)'\n",
      "   Formula: Total Arm Length = 0.8 * Height\n",
      "❌ Failed: Elbow Width to Forearm Girth\n",
      "   Error: 'Elbow (CM)'\n",
      "   Formula: Elbow Width = 0.6 * Forearm Girth\n",
      "❌ Failed: Wrist Girth to Total Height\n",
      "   Error: name 'Height' is not defined\n",
      "   Formula: Wrist Girth = 0.05 * Height\n",
      "❌ Failed: Neck Height to Shoulder Breadth\n",
      "   Error: 'Neck (CM)'\n",
      "   Formula: Neck Height = 0.2 * Shoulder Breadth\n",
      "❌ Failed: Head Circumference to Arm Span\n",
      "   Error: 'Head (CM)'\n",
      "   Formula: Head Circumference = 0.15 * Arm Span\n",
      "✅ Applied: Bust Width to Total Width\n",
      "✅ Applied: Chest Width to Back Width\n",
      "✅ Applied: Waist Girth to Hip Girth Ratio\n",
      "❌ Failed: Shoulder-to-Hem Length to Waist Length\n",
      "   Error: 'Shoulder (CM)'\n",
      "   Formula: Shoulder-to-Hem = 1.8 * Waist Length\n",
      "❌ Failed: Knee Height to Total Height\n",
      "   Error: 'Knee (CM)'\n",
      "   Formula: Knee Height = 0.55 * Height\n",
      "❌ Failed: Torso Width to Hip Width Ratio\n",
      "   Error: 'Torso (CM)'\n",
      "   Formula: Torso Width = 0.8 * Hip Width\n",
      "✅ Applied: Bust Span to Total Bust Girth\n",
      "❌ Failed: Shoulder Angle to Waist Height Ratio\n",
      "   Error: 'Shoulder (CM)'\n",
      "   Formula: Shoulder Angle = 0.05 * Waist Height\n",
      "✅ Applied: Waist to Thigh Height\n",
      "❌ Failed: Forearm Width to Wrist Width\n",
      "   Error: 'Forearm (CM)'\n",
      "   Formula: Forearm Width = 1.2 * Wrist Width\n",
      "❌ Failed: Head Depth to Arm Span Ratio\n",
      "   Error: 'Head (CM)'\n",
      "   Formula: Head Depth = 0.07 * Arm Span\n",
      "✅ Applied: Hip Width to Total Girth\n",
      "❌ Failed: Shoulder-to-Bust Length\n",
      "   Error: 'Shoulder (CM)'\n",
      "   Formula: Shoulder-to-Bust = 0.3 * Height\n",
      "❌ Failed: Back Neck Depth to Front Neck Depth\n",
      "   Error: 'Back (CM)'\n",
      "   Formula: Back Neck Depth = 0.5 * Front Neck Depth\n",
      "❌ Failed: Ankle Girth to Calf Girth\n",
      "   Error: 'Ankle (CM)'\n",
      "   Formula: Ankle Girth = 0.6 * Calf Girth\n",
      "✅ Applied: Bust-to-Waist Width Ratio\n",
      "❌ Failed: Armhole Circumference to Bust Girth\n",
      "   Error: invalid syntax (<string>, line 1)\n",
      "   Formula: Armhole Circumference = 0.3 * Bust Girth\n",
      "✅ Applied: Hip to Knee Ratio\n",
      "✅ Applied: Bust Depth to Torso Depth\n",
      "❌ Failed: Shoulder Breadth to Hip Breadth\n",
      "   Error: 'Shoulder (CM)'\n",
      "   Formula: Shoulder Breadth = 0.9 * Hip Breadth\n",
      "❌ Failed: Wrist Girth to Palm Width\n",
      "   Error: invalid syntax (<string>, line 1)\n",
      "   Formula: Wrist Girth = 0.4 * Palm Width\n",
      "✅ Applied: Waist Girth to Total Torso Girth\n",
      "✅ Applied: Chest Depth to Height Ratio\n",
      "❌ Failed: Neck Length to Head Height\n",
      "   Error: 'Neck (CM)'\n",
      "   Formula: Neck Length = 0.4 * Head Height\n",
      "❌ Failed: Arm Span to Waist Girth Ratio\n",
      "   Error: 'Arm (CM)'\n",
      "   Formula: Arm Span = 2.2 * Waist Girth\n",
      "❌ Failed: Shoulder Angle to Chest Width\n",
      "   Error: 'Shoulder (CM)'\n",
      "   Formula: Shoulder Angle = 0.05 * Chest Width\n",
      "❌ Failed: Thigh Length to Total Height\n",
      "   Error: 'Thigh (CM)'\n",
      "   Formula: Thigh Length = 0.45 * Total Height\n",
      "❌ Failed: Ankle Width to Calf Width\n",
      "   Error: 'Ankle (CM)'\n",
      "   Formula: Ankle Width = 0.65 * Calf Width\n",
      "❌ Failed: Upper Arm Girth to Bust Girth\n",
      "   Error: 'Upper (CM)'\n",
      "   Formula: Upper Arm = 0.25 * Bust Girth\n",
      "❌ Failed: Neck Girth to Chest Girth Ratio\n",
      "   Error: 'Neck (CM)'\n",
      "   Formula: Neck Girth = 0.4 * Chest Girth\n",
      "❌ Failed: Waistline Slope to Hip Girth\n",
      "   Error: 'Waistline (CM)'\n",
      "   Formula: Waistline Slope = 0.1 * Hip Girth\n",
      "❌ Failed: Shoulder Width to Arm Span\n",
      "   Error: 'Shoulder (CM)'\n",
      "   Formula: Shoulder Width = 0.22 * Arm Span\n",
      "✅ Applied: Bust to Waist Difference\n",
      "❌ Failed: Elbow Circumference to Upper Arm Girth\n",
      "   Error: 'Elbow (CM)'\n",
      "   Formula: Elbow Circumference = 0.85 * Upper Arm Girth\n",
      "✅ Applied: Bust-to-Hip Width Difference\n",
      "❌ Failed: Neck Width to Total Torso Width\n",
      "   Error: 'Neck (CM)'\n",
      "   Formula: Neck Width = 0.1 * Torso Width\n",
      "✅ Applied: Waist-to-Thigh Width Difference\n",
      "✅ Applied: Hip Height to Waist Height\n",
      "❌ Failed: Shoulder Girth to Chest Girth Ratio\n",
      "   Error: 'Shoulder (CM)'\n",
      "   Formula: Shoulder Girth = 1.1 * Chest Girth\n",
      "❌ Failed: Foot Width to Height Ratio\n",
      "   Error: 'Foot (CM)'\n",
      "   Formula: Foot Width = 0.08 * Height\n",
      "❌ Failed: Armhole Depth to Upper Arm Length\n",
      "   Error: invalid syntax (<string>, line 1)\n",
      "   Formula: Armhole Depth = 0.9 * Upper Arm Length\n",
      "❌ Failed: Head Width to Total Width Ratio\n",
      "   Error: 'Head (CM)'\n",
      "   Formula: Head Width = 0.15 * Total Width\n",
      "❌ Failed: Torso Length to Total Height\n",
      "   Error: 'Torso (CM)'\n",
      "   Formula: Torso Length = 0.6 * Height\n",
      "❌ Failed: Upper Arm Length to Total Arm Length\n",
      "   Error: 'Upper (CM)'\n",
      "   Formula: Upper Arm = 0.55 * Total Arm Length\n",
      "❌ Failed: Lower Arm Length to Total Arm Length\n",
      "   Error: 'Lower (CM)'\n",
      "   Formula: Lower Arm = 0.45 * Total Arm Length\n",
      "❌ Failed: Shoulder Width to Chest Depth\n",
      "   Error: 'Shoulder (CM)'\n",
      "   Formula: Shoulder Width = 1.2 * Chest Depth\n",
      "❌ Failed: Neck Width to Neck Girth\n",
      "   Error: 'Neck (CM)'\n",
      "   Formula: Neck Width = 0.35 * Neck Girth\n",
      "❌ Failed: Shoulder-to-Hip Distance\n",
      "   Error: 'Shoulder (CM)'\n",
      "   Formula: Shoulder-to-Hip = 0.5 * Height\n",
      "❌ Failed: Ankle Circumference to Thigh Circumference\n",
      "   Error: 'Ankle (CM)'\n",
      "   Formula: Ankle = 0.5 * Thigh\n",
      "✅ Applied: Bust Depth to Bust Width\n",
      "❌ Failed: Waistline Curve Angle\n",
      "   Error: 'Waistline (CM)'\n",
      "   Formula: Waistline Curve = 15–20 degrees\n",
      "❌ Failed: Elbow Angle to Upper Arm Length\n",
      "   Error: 'Elbow (CM)'\n",
      "   Formula: Elbow Angle = 15 degrees\n",
      "❌ Failed: Foot Length to Total Leg Length\n",
      "   Error: 'Foot (CM)'\n",
      "   Formula: Foot = 0.2 * Total Leg Length\n",
      "❌ Failed: Shoulder Width to Hip Girth\n",
      "   Error: 'Shoulder (CM)'\n",
      "   Formula: Shoulder Width = 0.8 * Hip Girth\n",
      "❌ Failed: Wrist Width to Hand Width\n",
      "   Error: invalid syntax (<string>, line 1)\n",
      "   Formula: Wrist Width = 0.6 * Hand Width\n",
      "✅ Applied: Waist Girth to Total Body Girth\n",
      "❌ Failed: Calf Width to Ankle Width\n",
      "   Error: 'Calf (CM)'\n",
      "   Formula: Calf Width = 1.5 * Ankle Width\n",
      "✅ Applied: Bust Span to Torso Width\n",
      "❌ Failed: Thigh Height to Waist Height\n",
      "   Error: 'Thigh (CM)'\n",
      "   Formula: Thigh Height = 1.1 * Waist Height\n",
      "✅ Applied: Chest Girth to Torso Girth\n",
      "❌ Failed: Shoulder Breadth to Hip Girth\n",
      "   Error: 'Shoulder (CM)'\n",
      "   Formula: Shoulder Breadth = 0.7 * Hip Girth\n",
      "❌ Failed: Knee Girth to Thigh Girth\n",
      "   Error: 'Knee (CM)'\n",
      "   Formula: Knee Girth = 0.6 * Thigh Girth\n",
      "❌ Failed: Back Neck Width to Front Neck Width\n",
      "   Error: 'Back (CM)'\n",
      "   Formula: Back Neck Width = 1.1 * Front Neck Width\n",
      "✅ Applied: Bust-to-Waist Ratio\n",
      "❌ Failed: Waistline Drop to Hip Height\n",
      "   Error: 'Waistline (CM)'\n",
      "   Formula: Waistline Drop = 0.3 * Hip Height\n",
      "❌ Failed: Palm Width to Total Arm Length\n",
      "   Error: 'Palm (CM)'\n",
      "   Formula: Palm Width = 0.1 * Total Arm Length\n",
      "❌ Failed: Ankle Height to Total Height\n",
      "   Error: 'Ankle (CM)'\n",
      "   Formula: Ankle Height = 0.1 * Total Height\n",
      "❌ Failed: Torso Girth to Bust Girth\n",
      "   Error: 'Torso (CM)'\n",
      "   Formula: Torso Girth = 0.8 * Bust Girth\n",
      "❌ Failed: Elbow Circumference to Lower Arm Girth\n",
      "   Error: 'Elbow (CM)'\n",
      "   Formula: Elbow Circumference = 1.1 * Lower Arm Girth\n",
      "❌ Failed: Shoulder Width to Neck Circumference\n",
      "   Error: 'Shoulder (CM)'\n",
      "   Formula: Shoulder Width = 3 * Neck Circumference\n",
      "✅ Applied: Waist Depth to Hip Depth\n",
      "❌ Failed: Head Height to Neck Height\n",
      "   Error: 'Head (CM)'\n",
      "   Formula: Head Height = 2.5 * Neck Height\n",
      "❌ Failed: Upper Arm Width to Upper Arm Girth\n",
      "   Error: 'Upper (CM)'\n",
      "   Formula: Upper Arm Width = 0.3 * Upper Arm Girth\n",
      "✅ Applied: Waist Width to Bust Width\n",
      "❌ Failed: Shoulder-to-Ankle Length\n",
      "   Error: 'Shoulder (CM)'\n",
      "   Formula: Shoulder-to-Ankle = 0.9 * Height\n",
      "❌ Failed: Thigh Girth to Waist Depth\n",
      "   Error: 'Thigh (CM)'\n",
      "   Formula: Thigh Girth = 1.6 * Waist Depth\n",
      "❌ Failed: Neck Depth to Bust Width\n",
      "   Error: 'Neck (CM)'\n",
      "   Formula: Neck Depth = 0.15 * Bust Width\n",
      "✅ Applied: Hip-to-Knee Ratio\n",
      "❌ Failed: Wrist Depth to Wrist Width\n",
      "   Error: invalid syntax (<string>, line 1)\n",
      "   Formula: Wrist Depth = 0.8 * Wrist Width\n",
      "❌ Failed: Shoulder Width to Total Width\n",
      "   Error: 'Shoulder (CM)'\n",
      "   Formula: Shoulder Width = 0.25 * Total Width\n",
      "❌ Failed: Calf Width to Total Width\n",
      "   Error: 'Calf (CM)'\n",
      "   Formula: Calf Width = 0.1 * Total Width\n",
      "❌ Failed: Head Width to Total Height\n",
      "   Error: 'Head (CM)'\n",
      "   Formula: Head Width = 0.15 * Total Height\n",
      "✅ Applied: Bust Girth to Shoulder Breadth\n",
      "❌ Failed: Elbow Angle to Shoulder Width\n",
      "   Error: 'Elbow (CM)'\n",
      "   Formula: Elbow Angle = 0.05 * Shoulder Width\n",
      "❌ Failed: Thigh Girth to Ankle Girth Ratio\n",
      "   Error: 'Thigh (CM)'\n",
      "   Formula: Thigh = 2 * Ankle Girth\n",
      "❌ Failed: Shoulder Slope to Bust Height\n",
      "   Error: 'Shoulder (CM)'\n",
      "   Formula: Shoulder Slope = 0.1 * Bust Height\n",
      "❌ Failed: Forearm Girth to Upper Arm Girth\n",
      "   Error: 'Forearm (CM)'\n",
      "   Formula: Forearm = 0.8 * Upper Arm Girth\n",
      "❌ Failed: Neck Width to Arm Span Ratio\n",
      "   Error: 'Neck (CM)'\n",
      "   Formula: Neck Width = 0.05 * Arm Span\n",
      "✅ Applied: Waist-to-Knee Height Ratio\n",
      "❌ Failed: Shoulder to Elbow to Wrist Ratio\n",
      "   Error: 'Shoulder (CM)'\n",
      "   Formula: Shoulder to Elbow = 1.2 * Elbow to Wrist\n",
      "❌ Failed: Hand Span to Arm Span Ratio\n",
      "   Error: 'Hand (CM)'\n",
      "   Formula: Hand Span = 0.1 * Arm Span\n",
      "✅ Applied: Bust Width to Hip Width Difference\n",
      "❌ Failed: Neck Circumference to Height\n",
      "   Error: 'Neck (CM)'\n",
      "   Formula: Neck Circumference = 0.2 * Height\n",
      "❌ Failed: Thigh Girth to Total Girth Ratio\n",
      "   Error: 'Thigh (CM)'\n",
      "   Formula: Thigh Girth = 0.25 * Total Girth\n",
      "✅ Applied: Waist Depth to Total Depth Ratio\n",
      "✅ Applied: Hip Depth to Waist Depth\n",
      "❌ Failed: Shoulder Girth to Neck Girth Ratio\n",
      "   Error: 'Shoulder (CM)'\n",
      "   Formula: Shoulder Girth = 3 * Neck Girth\n",
      "❌ Failed: Wrist Width to Arm Width\n",
      "   Error: invalid syntax (<string>, line 1)\n",
      "   Formula: Wrist Width = 0.6 * Arm Width\n",
      "❌ Failed: Forearm Girth to Shoulder Width\n",
      "   Error: 'Forearm (CM)'\n",
      "   Formula: Forearm = 0.2 * Shoulder Width\n",
      "✅ Applied: Bust Girth to Waist Depth\n",
      "❌ Failed: Shoulder Breadth to Total Breadth\n",
      "   Error: 'Shoulder (CM)'\n",
      "   Formula: Shoulder Breadth = 0.3 * Total Breadth\n",
      "❌ Failed: Elbow Girth to Forearm Length\n",
      "   Error: 'Elbow (CM)'\n",
      "   Formula: Elbow Girth = 0.5 * Forearm Length\n",
      "❌ Failed: Knee Girth to Ankle Girth\n",
      "   Error: 'Knee (CM)'\n",
      "   Formula: Knee Girth = 1.5 * Ankle Girth\n",
      "✅ Applied: Bust Span to Shoulder Breadth\n",
      "❌ Failed: Torso Depth to Hip Depth Ratio\n",
      "   Error: 'Torso (CM)'\n",
      "   Formula: Torso Depth = 0.8 * Hip Depth\n",
      "❌ Failed: Shoulder Width to Total Torso Width\n",
      "   Error: 'Shoulder (CM)'\n",
      "   Formula: Shoulder Width = 0.4 * Total Torso Width\n",
      "❌ Failed: Upper Arm Girth to Shoulder Width\n",
      "   Error: 'Upper (CM)'\n",
      "   Formula: Upper Arm Girth = 0.25 * Shoulder Width\n",
      "✅ Applied: Waist Width to Total Width Ratio\n",
      "✅ Applied: Hip Girth to Total Torso Girth\n",
      "❌ Failed: Palm Girth to Palm Width\n",
      "   Error: 'Palm (CM)'\n",
      "   Formula: Palm Girth = 2.5 * Palm Width\n",
      "❌ Failed: Back Neck Depth to Total Depth\n",
      "   Error: 'Back (CM)'\n",
      "   Formula: Back Neck Depth = 0.15 * Total Depth\n",
      "❌ Failed: Ankle Width to Total Leg Width\n",
      "   Error: 'Ankle (CM)'\n",
      "   Formula: Ankle Width = 0.1 * Total Leg Width\n",
      "❌ Failed: Shoulder Breadth to Bust Breadth\n",
      "   Error: 'Shoulder (CM)'\n",
      "   Formula: Shoulder Breadth = 0.9 * Bust Breadth\n",
      "✅ Applied: Bust Girth to Total Girth\n",
      "✅ Applied: Waist Depth to Hip Depth Difference\n",
      "❌ Failed: Forearm Length to Torso Length\n",
      "   Error: 'Forearm (CM)'\n",
      "   Formula: Forearm = 0.3 * Torso Length\n",
      "❌ Failed: Head Circumference to Shoulder Girth\n",
      "   Error: 'Head (CM)'\n",
      "   Formula: Head Circumference = 0.2 * Shoulder Girth\n",
      "❌ Failed: Knee Width to Hip Width\n",
      "   Error: 'Knee (CM)'\n",
      "   Formula: Knee Width = 0.4 * Hip Width\n",
      "✅ Applied: Bust Width to Shoulder Width\n",
      "❌ Failed: Arm Span to Height Ratio\n",
      "   Error: 'Arm (CM)'\n",
      "   Formula: Arm Span = 1 * Height\n",
      "❌ Failed: Ankle Girth to Waist Girth\n",
      "   Error: 'Ankle (CM)'\n",
      "   Formula: Ankle Girth = 0.15 * Waist Girth\n",
      "❌ Failed: Upper Arm Length to Lower Arm Length\n",
      "   Error: 'Upper (CM)'\n",
      "   Formula: Upper Arm = 1.2 * Lower Arm\n",
      "❌ Failed: Shoulder Breadth to Waist Breadth\n",
      "   Error: 'Shoulder (CM)'\n",
      "   Formula: Shoulder Breadth = 1.1 * Waist Breadth\n",
      "✅ Applied: Bust Breadth to Waist Breadth\n",
      "❌ Failed: Neck Depth to Total Height\n",
      "   Error: 'Neck (CM)'\n",
      "   Formula: Neck Depth = 0.1 * Total Height\n",
      "❌ Failed: Elbow Girth to Upper Arm Girth\n",
      "   Error: 'Elbow (CM)'\n",
      "   Formula: Elbow Girth = 0.9 * Upper Arm Girth\n",
      "❌ Failed: Shoulder Angle to Bust Breadth Ratio\n",
      "   Error: 'Shoulder (CM)'\n",
      "   Formula: Shoulder Angle = 0.05 * Bust Breadth\n",
      "❌ Failed: Wrist Circumference to Ankle Circumference\n",
      "   Error: invalid syntax (<string>, line 1)\n",
      "   Formula: Wrist Circumference = 1.1 * Ankle Circumference\n",
      "❌ Failed: Torso Girth to Bust Width\n",
      "   Error: 'Torso (CM)'\n",
      "   Formula: Torso Girth = 2 * Bust Width\n",
      "✅ Applied: Waist Height to Bust Height Ratio\n",
      "❌ Failed: Shoulder Girth to Upper Arm Girth\n",
      "   Error: 'Shoulder (CM)'\n",
      "   Formula: Shoulder Girth = 4 * Upper Arm Girth\n",
      "❌ Failed: Palm Width to Total Hand Width\n",
      "   Error: 'Palm (CM)'\n",
      "   Formula: Palm Width = 0.6 * Total Hand Width\n",
      "✅ Applied: Bust Depth to Torso Girth\n",
      "✅ Applied: Waist Girth to Hip Depth\n",
      "❌ Failed: Shoulder-to-Waist to Total Height\n",
      "   Error: 'Shoulder (CM)'\n",
      "   Formula: Shoulder-to-Waist = 0.4 * Total Height\n",
      "\n",
      "Missing values after applying relationships:\n",
      "Notes                            203\n",
      "Shoulde_to_Underbust (CM)         13\n",
      "Armhole (CM)                     136\n",
      "Top_Arm (CM)                       6\n",
      "Round_Elbow (CM)                  26\n",
      "Wrist (CM)                         9\n",
      "Hand_Entry (CM)                   30\n",
      "Elbow_Length (CM)                  6\n",
      "Sleeve_Length (CM)                 5\n",
      "Dress_Knee_Length (CM)             5\n",
      "Dress_Full_Length (CM)             4\n",
      "Skirt_Knee_Length (CM)             5\n",
      "Skirt_Full_Length (CM)             2\n",
      "Neck_to_Sweetheart_Front (CM)     16\n",
      "Neck_to_Sweetheart_Back (CM)      17\n",
      "Round_Neck (CM)                   72\n",
      "Flare_Out (CM)                    18\n",
      "Walking_Step (CM)                 18\n",
      "Trouser_Waist (CM)                93\n",
      "Trouser_HIP (CM)                  93\n",
      "Trouser_Waist_to_Hip (CM)         95\n",
      "Body_Rise (CM)                   104\n",
      "Outseam (CM)                     107\n",
      "Pant_Full_Length (CM)            106\n",
      "Pant_Knee_Length (CM)            110\n",
      "Pant_Calf_Length (CM)            172\n",
      "Pant_Ankle_Length (CM)           108\n",
      "Pant_High_Ankle_Length (CM)      171\n",
      "Round_Thigh (CM)                 117\n",
      "Round_Knee (CM)                  121\n",
      "Round_Calf (CM)                  110\n",
      "Round_High_Ankle (CM)            111\n",
      "Round_Ankle (CM)                 106\n",
      "Foot_Entry (CM)                  106\n",
      "dtype: int64\n"
     ]
    }
   ],
   "source": [
    "import re\n",
    "\n",
    "# Load relationships from your Excel sheet\n",
    "relationships = sheets['Measurement Relationships']\n",
    "\n",
    "# Process each relationship\n",
    "for idx, row in relationships.iterrows():\n",
    "    try:\n",
    "        # Parse formula and target column\n",
    "        formula_str = row['Typical Proportion or Formula']\n",
    "        formula_str = (formula_str\n",
    "                       .replace('≈', '=')\n",
    "                       .replace('×', '*')\n",
    "                       .replace('÷', '/'))\n",
    "        \n",
    "        # Extract target column (first term before operator)\n",
    "        target_col = re.split(r'≈|=|÷|×|\\+|\\-| ', formula_str)[0].strip() + ' (CM)'\n",
    "        \n",
    "        # Build lambda expression\n",
    "        expression = re.sub(r'^.*?=', '', formula_str).strip()\n",
    "        formula = lambda row: eval(expression, {}, {'row': row})\n",
    "        \n",
    "        # Identify source columns from formula\n",
    "        source_cols = [col for col in measurements.columns \n",
    "                      if col in expression and col != target_col]\n",
    "\n",
    "        # Create mask: missing target & available sources\n",
    "        mask = (\n",
    "            measurements[target_col].isna() & \n",
    "            measurements[source_cols].notna().all(axis=1)\n",
    "        )\n",
    "        # Apply formula\n",
    "        measurements.loc[mask, target_col] = measurements.loc[mask].apply(formula, axis=1)\n",
    "        \n",
    "        print(f\"✅ Applied: {row['Measurement Relationship']}\")\n",
    "        \n",
    "    except Exception as e:\n",
    "        print(f\"❌ Failed: {row['Measurement Relationship']}\")\n",
    "        print(f\"   Error: {str(e)}\")\n",
    "        print(f\"   Formula: {formula_str}\")\n",
    "\n",
    "# Validation check\n",
    "print(\"\\nMissing values after applying relationships:\")\n",
    "print(measurements.isnull().sum()[measurements.isnull().sum() > 0])"
   ]
  },
  {
   "cell_type": "code",
   "execution_count": 21,
   "id": "ac53131d-ed65-4daa-b348-afe0cfe7c1dd",
   "metadata": {},
   "outputs": [],
   "source": [
    "# Drop \"Notes\" column (not useful for analysis)\n",
    "measurements = measurements.drop(columns=['Notes'])"
   ]
  },
  {
   "cell_type": "code",
   "execution_count": 22,
   "id": "ff0f870d-2b5a-45c4-95dc-1500d45b5789",
   "metadata": {},
   "outputs": [],
   "source": [
    "body_regions = {  \n",
    "    'Upper Body': ['Bust (CM)', 'Back Width (CM)', 'Shoulder Width (CM)'],  \n",
    "    'Lower Body': ['Hip (CM)', 'Waist (CM)', 'Thigh (CM)'],  \n",
    "    'Arms': ['Top_Arm (CM)', 'Round_Elbow (CM)', 'Sleeve_Length (CM)']  \n",
    "}  "
   ]
  },
  {
   "cell_type": "code",
   "execution_count": 23,
   "id": "d23a95fe-9cd7-4ab6-a7c6-3682e760b3af",
   "metadata": {},
   "outputs": [
    {
     "ename": "KeyError",
     "evalue": "\"['Back Width (CM)'] not in index\"",
     "output_type": "error",
     "traceback": [
      "\u001b[31m---------------------------------------------------------------------------\u001b[39m",
      "\u001b[31mKeyError\u001b[39m                                  Traceback (most recent call last)",
      "\u001b[36mCell\u001b[39m\u001b[36m \u001b[39m\u001b[32mIn[23]\u001b[39m\u001b[32m, line 4\u001b[39m\n\u001b[32m      2\u001b[39m upper_body_predictors = [\u001b[33m'\u001b[39m\u001b[33mBust (CM)\u001b[39m\u001b[33m'\u001b[39m, \u001b[33m'\u001b[39m\u001b[33mBack Width (CM)\u001b[39m\u001b[33m'\u001b[39m, \u001b[33m'\u001b[39m\u001b[33mHeight (CM)\u001b[39m\u001b[33m'\u001b[39m]  \n\u001b[32m      3\u001b[39m mask = measurements[\u001b[33m'\u001b[39m\u001b[33mArmhole (CM)\u001b[39m\u001b[33m'\u001b[39m].isna()  \n\u001b[32m----> \u001b[39m\u001b[32m4\u001b[39m measurements.loc[mask, \u001b[33m'\u001b[39m\u001b[33mArmhole (CM)\u001b[39m\u001b[33m'\u001b[39m] = \u001b[43mmeasurements\u001b[49m\u001b[43m[\u001b[49m\u001b[43mmask\u001b[49m\u001b[43m]\u001b[49m\u001b[43m[\u001b[49m\u001b[43mupper_body_predictors\u001b[49m\u001b[43m]\u001b[49m.mean(axis=\u001b[32m1\u001b[39m) * \u001b[32m0.3\u001b[39m  \u001b[38;5;66;03m# Adjust multiplier based on your expertise  \u001b[39;00m\n",
      "\u001b[36mFile \u001b[39m\u001b[32m~\\Documents\\my_project\\body-measurement-predictor\\venv\\Lib\\site-packages\\pandas\\core\\frame.py:4108\u001b[39m, in \u001b[36mDataFrame.__getitem__\u001b[39m\u001b[34m(self, key)\u001b[39m\n\u001b[32m   4106\u001b[39m     \u001b[38;5;28;01mif\u001b[39;00m is_iterator(key):\n\u001b[32m   4107\u001b[39m         key = \u001b[38;5;28mlist\u001b[39m(key)\n\u001b[32m-> \u001b[39m\u001b[32m4108\u001b[39m     indexer = \u001b[38;5;28;43mself\u001b[39;49m\u001b[43m.\u001b[49m\u001b[43mcolumns\u001b[49m\u001b[43m.\u001b[49m\u001b[43m_get_indexer_strict\u001b[49m\u001b[43m(\u001b[49m\u001b[43mkey\u001b[49m\u001b[43m,\u001b[49m\u001b[43m \u001b[49m\u001b[33;43m\"\u001b[39;49m\u001b[33;43mcolumns\u001b[39;49m\u001b[33;43m\"\u001b[39;49m\u001b[43m)\u001b[49m[\u001b[32m1\u001b[39m]\n\u001b[32m   4110\u001b[39m \u001b[38;5;66;03m# take() does not accept boolean indexers\u001b[39;00m\n\u001b[32m   4111\u001b[39m \u001b[38;5;28;01mif\u001b[39;00m \u001b[38;5;28mgetattr\u001b[39m(indexer, \u001b[33m\"\u001b[39m\u001b[33mdtype\u001b[39m\u001b[33m\"\u001b[39m, \u001b[38;5;28;01mNone\u001b[39;00m) == \u001b[38;5;28mbool\u001b[39m:\n",
      "\u001b[36mFile \u001b[39m\u001b[32m~\\Documents\\my_project\\body-measurement-predictor\\venv\\Lib\\site-packages\\pandas\\core\\indexes\\base.py:6200\u001b[39m, in \u001b[36mIndex._get_indexer_strict\u001b[39m\u001b[34m(self, key, axis_name)\u001b[39m\n\u001b[32m   6197\u001b[39m \u001b[38;5;28;01melse\u001b[39;00m:\n\u001b[32m   6198\u001b[39m     keyarr, indexer, new_indexer = \u001b[38;5;28mself\u001b[39m._reindex_non_unique(keyarr)\n\u001b[32m-> \u001b[39m\u001b[32m6200\u001b[39m \u001b[38;5;28;43mself\u001b[39;49m\u001b[43m.\u001b[49m\u001b[43m_raise_if_missing\u001b[49m\u001b[43m(\u001b[49m\u001b[43mkeyarr\u001b[49m\u001b[43m,\u001b[49m\u001b[43m \u001b[49m\u001b[43mindexer\u001b[49m\u001b[43m,\u001b[49m\u001b[43m \u001b[49m\u001b[43maxis_name\u001b[49m\u001b[43m)\u001b[49m\n\u001b[32m   6202\u001b[39m keyarr = \u001b[38;5;28mself\u001b[39m.take(indexer)\n\u001b[32m   6203\u001b[39m \u001b[38;5;28;01mif\u001b[39;00m \u001b[38;5;28misinstance\u001b[39m(key, Index):\n\u001b[32m   6204\u001b[39m     \u001b[38;5;66;03m# GH 42790 - Preserve name from an Index\u001b[39;00m\n",
      "\u001b[36mFile \u001b[39m\u001b[32m~\\Documents\\my_project\\body-measurement-predictor\\venv\\Lib\\site-packages\\pandas\\core\\indexes\\base.py:6252\u001b[39m, in \u001b[36mIndex._raise_if_missing\u001b[39m\u001b[34m(self, key, indexer, axis_name)\u001b[39m\n\u001b[32m   6249\u001b[39m     \u001b[38;5;28;01mraise\u001b[39;00m \u001b[38;5;167;01mKeyError\u001b[39;00m(\u001b[33mf\u001b[39m\u001b[33m\"\u001b[39m\u001b[33mNone of [\u001b[39m\u001b[38;5;132;01m{\u001b[39;00mkey\u001b[38;5;132;01m}\u001b[39;00m\u001b[33m] are in the [\u001b[39m\u001b[38;5;132;01m{\u001b[39;00maxis_name\u001b[38;5;132;01m}\u001b[39;00m\u001b[33m]\u001b[39m\u001b[33m\"\u001b[39m)\n\u001b[32m   6251\u001b[39m not_found = \u001b[38;5;28mlist\u001b[39m(ensure_index(key)[missing_mask.nonzero()[\u001b[32m0\u001b[39m]].unique())\n\u001b[32m-> \u001b[39m\u001b[32m6252\u001b[39m \u001b[38;5;28;01mraise\u001b[39;00m \u001b[38;5;167;01mKeyError\u001b[39;00m(\u001b[33mf\u001b[39m\u001b[33m\"\u001b[39m\u001b[38;5;132;01m{\u001b[39;00mnot_found\u001b[38;5;132;01m}\u001b[39;00m\u001b[33m not in index\u001b[39m\u001b[33m\"\u001b[39m)\n",
      "\u001b[31mKeyError\u001b[39m: \"['Back Width (CM)'] not in index\""
     ]
    }
   ],
   "source": [
    "# Example: Fill Armhole (CM) using Upper Body predictors  \n",
    "upper_body_predictors = ['Bust (CM)', 'Back Width (CM)', 'Height (CM)']  \n",
    "mask = measurements['Armhole (CM)'].isna()  \n",
    "measurements.loc[mask, 'Armhole (CM)'] = measurements[mask][upper_body_predictors].mean(axis=1) * 0.3  # Adjust multiplier based on your expertise  "
   ]
  },
  {
   "cell_type": "code",
   "execution_count": 24,
   "id": "2e05d885-1fdc-4149-860b-a55a61795de7",
   "metadata": {},
   "outputs": [
    {
     "name": "stdout",
     "output_type": "stream",
     "text": [
      "Columns in your dataset: ['ID', 'Date Measured (YYYY-MM-DD)', 'Height (CM)', 'Chest (CM)', 'Bust (CM)', 'Waist (CM)', 'Hip (CM)', 'Waist_to_Hip (CM)', 'Bust_Height (CM)', 'Breast_Distance (CM)', 'Bust_Radius (CM)', 'Shoulde_to_Underbust (CM)', 'Front_Waist_Length (CM)', 'Back_Waist_Length (CM)', 'Back_Width (CM)', 'Back_Shoulder (CM)', 'Armhole (CM)', 'Top_Arm (CM)', 'Round_Elbow (CM)', 'Wrist (CM)', 'Hand_Entry (CM)', 'Elbow_Length (CM)', 'Sleeve_Length (CM)', 'Dress_Knee_Length (CM)', 'Dress_Full_Length (CM)', 'Skirt_Knee_Length (CM)', 'Skirt_Full_Length (CM)', 'Neck_to_Sweetheart_Front (CM)', 'Neck_to_Sweetheart_Back (CM)', 'Round_Neck (CM)', 'Flare_Out (CM)', 'Walking_Step (CM)', 'Trouser_Waist (CM)', 'Trouser_HIP (CM)', 'Trouser_Waist_to_Hip (CM)', 'Body_Rise (CM)', 'Outseam (CM)', 'Inseam (CM)', 'Pant_Full_Length (CM)', 'Pant_Knee_Length (CM)', 'Pant_Calf_Length (CM)', 'Pant_Ankle_Length (CM)', 'Pant_High_Ankle_Length (CM)', 'Round_Thigh (CM)', 'Round_Knee (CM)', 'Round_Calf (CM)', 'Round_High_Ankle (CM)', 'Round_Ankle (CM)', 'Foot_Entry (CM)']\n"
     ]
    }
   ],
   "source": [
    "print(\"Columns in your dataset:\", measurements.columns.tolist())"
   ]
  },
  {
   "cell_type": "code",
   "execution_count": 25,
   "id": "5109eb6b-dff2-4ac4-9f83-477c507b2286",
   "metadata": {},
   "outputs": [],
   "source": [
    "# Use correct column names (with underscores)\n",
    "upper_body_predictors = ['Bust (CM)', 'Back_Waist_Length (CM)', 'Height (CM)']\n",
    "mask = measurements['Armhole (CM)'].isna()\n",
    "\n",
    "# Calculate using your domain knowledge (e.g., 30% of bust + back width)\n",
    "measurements.loc[mask, 'Armhole (CM)'] = (\n",
    "    0.5 * measurements.loc[mask, 'Bust (CM)'] + \n",
    "    0.3 * measurements.loc[mask, 'Back_Waist_Length (CM)'] + \n",
    "    0.2 * measurements.loc[mask, 'Height (CM)']\n",
    ")"
   ]
  },
  {
   "cell_type": "code",
   "execution_count": 26,
   "id": "87935368-9f80-4ed3-9b7b-d1fd5691af2d",
   "metadata": {},
   "outputs": [],
   "source": [
    "# Check if \"Back_Waist_Length\" has missing values\n",
    "if measurements['Back_Waist_Length (CM)'].isna().sum() > 0:\n",
    "    # Fallback: Use only Bust and Height\n",
    "    measurements.loc[mask, 'Armhole (CM)'] = (\n",
    "        0.7 * measurements.loc[mask, 'Bust (CM)'] + \n",
    "        0.3 * measurements.loc[mask, 'Height (CM)']\n",
    "    )"
   ]
  },
  {
   "cell_type": "code",
   "execution_count": 27,
   "id": "f1af3a6b-cdb9-4959-b2e9-30c5636c26bf",
   "metadata": {},
   "outputs": [
    {
     "name": "stdout",
     "output_type": "stream",
     "text": [
      "Armhole values after imputation:\n",
      "    Bust (CM)  Back_Waist_Length (CM)  Height (CM)  Armhole (CM)\n",
      "0          92                    39.0          6.5          59.0\n",
      "1          94                    41.0          6.5          60.6\n",
      "2          95                    35.0          6.5          59.3\n",
      "3         108                    41.0          6.5          67.6\n",
      "4          92                    39.0          6.5          59.0\n",
      "5          97                    39.0          6.5          61.5\n",
      "6          90                    35.0          6.5          56.8\n",
      "7          80                    37.0          6.5          52.4\n",
      "10         84                    37.0          6.5          54.4\n",
      "11         88                    38.0        167.0          88.8\n"
     ]
    }
   ],
   "source": [
    "print(\"Armhole values after imputation:\")\n",
    "print(measurements.loc[mask, ['Bust (CM)', 'Back_Waist_Length (CM)', 'Height (CM)', 'Armhole (CM)']].head(10))"
   ]
  },
  {
   "cell_type": "code",
   "execution_count": 28,
   "id": "c086d5be-3cf0-40ca-b63a-cefeadd08ea4",
   "metadata": {},
   "outputs": [
    {
     "name": "stdout",
     "output_type": "stream",
     "text": [
      "Height Statistics (cm):\n",
      "count      213.000000\n",
      "mean     16115.258216\n",
      "std       4025.129150\n",
      "min        650.000000\n",
      "25%      16500.000000\n",
      "50%      17000.000000\n",
      "75%      17600.000000\n",
      "max      19000.000000\n",
      "Name: Height (CM), dtype: float64\n"
     ]
    }
   ],
   "source": [
    "# Convert height to realistic values (assuming original data was in meters)\n",
    "measurements['Height (CM)'] = measurements['Height (CM)'] * 100\n",
    "\n",
    "# Verify\n",
    "print(\"Height Statistics (cm):\")\n",
    "print(measurements['Height (CM)'].describe())\n",
    "# Should show min~150cm, max~185cm"
   ]
  },
  {
   "cell_type": "code",
   "execution_count": 29,
   "id": "570514ee-c0d9-450f-90da-93745569ef93",
   "metadata": {},
   "outputs": [
    {
     "name": "stdout",
     "output_type": "stream",
     "text": [
      "Corrected Height Stats (cm):\n",
      "count    213.000000\n",
      "mean     161.152582\n",
      "std       40.251291\n",
      "min        6.500000\n",
      "25%      165.000000\n",
      "50%      170.000000\n",
      "75%      176.000000\n",
      "max      190.000000\n",
      "Name: Height (CM), dtype: float64\n"
     ]
    }
   ],
   "source": [
    "# Undo the accidental 100x multiplication  \n",
    "measurements['Height (CM)'] = measurements['Height (CM)'] / 100  \n",
    "\n",
    "# Verify  \n",
    "print(\"Corrected Height Stats (cm):\")  \n",
    "print(measurements['Height (CM)'].describe())  "
   ]
  },
  {
   "cell_type": "code",
   "execution_count": 30,
   "id": "41e74a6d-386e-45d0-9e9b-5cd77d04ab3a",
   "metadata": {},
   "outputs": [],
   "source": [
    "# Remove impossible heights (e.g., < 140cm or > 200cm)  \n",
    "valid_heights = measurements[  \n",
    "    (measurements['Height (CM)'] >= 140) &  \n",
    "    (measurements['Height (CM)'] <= 200)  \n",
    "]  "
   ]
  },
  {
   "cell_type": "code",
   "execution_count": 31,
   "id": "ff4eb308-6b69-41cb-ac24-06dbe2ca3887",
   "metadata": {},
   "outputs": [
    {
     "ename": "AssertionError",
     "evalue": "Height values out of realistic range!",
     "output_type": "error",
     "traceback": [
      "\u001b[31m---------------------------------------------------------------------------\u001b[39m",
      "\u001b[31mAssertionError\u001b[39m                            Traceback (most recent call last)",
      "\u001b[36mCell\u001b[39m\u001b[36m \u001b[39m\u001b[32mIn[31]\u001b[39m\u001b[32m, line 2\u001b[39m\n\u001b[32m      1\u001b[39m \u001b[38;5;66;03m# Add to your data cleaning pipeline  \u001b[39;00m\n\u001b[32m----> \u001b[39m\u001b[32m2\u001b[39m \u001b[38;5;28;01massert\u001b[39;00m measurements[\u001b[33m'\u001b[39m\u001b[33mHeight (CM)\u001b[39m\u001b[33m'\u001b[39m].between(\u001b[32m140\u001b[39m, \u001b[32m200\u001b[39m).all(), \u001b[33m\"\u001b[39m\u001b[33mHeight values out of realistic range!\u001b[39m\u001b[33m\"\u001b[39m  \n",
      "\u001b[31mAssertionError\u001b[39m: Height values out of realistic range!"
     ]
    }
   ],
   "source": [
    "# Add to your data cleaning pipeline  \n",
    "assert measurements['Height (CM)'].between(140, 200).all(), \"Height values out of realistic range!\"  "
   ]
  },
  {
   "cell_type": "code",
   "execution_count": 32,
   "id": "06622a1e-d147-4fc9-a2c2-38cdfc9283bf",
   "metadata": {},
   "outputs": [
    {
     "name": "stdout",
     "output_type": "stream",
     "text": [
      "Invalid Height Entries:\n",
      "    ID  Height (CM)\n",
      "0    1          6.5\n",
      "1    2          6.5\n",
      "2    3          6.5\n",
      "3    4          6.5\n",
      "4    5          6.5\n",
      "5    6          6.5\n",
      "6    7          6.5\n",
      "7    8          6.5\n",
      "8    9          6.5\n",
      "9   10          6.5\n",
      "10  11          6.5\n",
      "12  13          6.5\n",
      "13  14          6.5\n"
     ]
    }
   ],
   "source": [
    "# Find rows where height is <140cm or >200cm\n",
    "invalid_heights = measurements[\n",
    "    (measurements['Height (CM)'] < 140) | \n",
    "    (measurements['Height (CM)'] > 200)\n",
    "]\n",
    "\n",
    "print(\"Invalid Height Entries:\")\n",
    "print(invalid_heights[['ID', 'Height (CM)']])"
   ]
  },
  {
   "cell_type": "code",
   "execution_count": 33,
   "id": "958b4393-685e-4acc-9164-fac04965864e",
   "metadata": {},
   "outputs": [
    {
     "name": "stdout",
     "output_type": "stream",
     "text": [
      "IDs with invalid heights: [1, 2, 3, 4, 5, 6, 7, 8, 9, 10, 11, 13, 14]\n"
     ]
    }
   ],
   "source": [
    "invalid_ids = measurements[measurements['Height (CM)'] < 140]['ID'].tolist()\n",
    "print(\"IDs with invalid heights:\", invalid_ids)\n",
    "# Output: IDs with invalid heights: [1, 2, 3, 4, 5, 6, 7, 8, 9, 10, 11, 13, 14]"
   ]
  },
  {
   "cell_type": "code",
   "execution_count": 34,
   "id": "27c63924-e60e-4279-ab8c-b90be1de36cd",
   "metadata": {},
   "outputs": [],
   "source": [
    "# Filter invalid heights with valid inseam data\n",
    "valid_inseam_mask = (\n",
    "    measurements['ID'].isin(invalid_ids) & \n",
    "    measurements['Inseam (CM)'].notna()\n",
    ")\n",
    "\n",
    "# Calculate height from inseam: Height = Inseam / 0.45\n",
    "measurements.loc[valid_inseam_mask, 'Height (CM)'] = measurements.loc[valid_inseam_mask, 'Inseam (CM)'] / 0.45"
   ]
  },
  {
   "cell_type": "code",
   "execution_count": 35,
   "id": "4326df35-e834-4a89-aa59-1dba92a6b462",
   "metadata": {},
   "outputs": [
    {
     "name": "stdout",
     "output_type": "stream",
     "text": [
      "Average height for similar bodies: 169.67438271604937\n"
     ]
    }
   ],
   "source": [
    "# Get average height for similar bust/waist/hip sizes\n",
    "similar_bodies = measurements[\n",
    "    (measurements['Bust (CM)'].between(85, 100)) &\n",
    "    (measurements['Waist (CM)'].between(65, 85)) &\n",
    "    (measurements['Hip (CM)'].between(90, 110))\n",
    "]\n",
    "\n",
    "avg_height = similar_bodies['Height (CM)'].mean()\n",
    "print(\"Average height for similar bodies:\", avg_height)\n",
    "# Example output: 165.2 cm\n",
    "\n",
    "# Apply to remaining invalid IDs\n",
    "measurements.loc[invalid_ids, 'Height (CM)'] = measurements.loc[invalid_ids, 'Height (CM)'].fillna(avg_height)"
   ]
  },
  {
   "cell_type": "code",
   "execution_count": 36,
   "id": "6ff4c199-69af-4248-8ec6-dab23fbd7a0f",
   "metadata": {},
   "outputs": [
    {
     "name": "stdout",
     "output_type": "stream",
     "text": [
      "Updated Height Statistics:\n",
      "count    213.000000\n",
      "mean     170.919144\n",
      "std        7.945922\n",
      "min      150.000000\n",
      "25%      165.000000\n",
      "50%      171.000000\n",
      "75%      177.000000\n",
      "max      190.000000\n",
      "Name: Height (CM), dtype: float64\n",
      "\n",
      "Sample Corrected Entries:\n",
      "    ID  Height (CM)  Inseam (CM)  Bust (CM)  Waist (CM)  Hip (CM)\n",
      "1    2   166.666667         75.0         94          78       104\n",
      "2    3   166.666667         75.0         95          75        99\n",
      "3    4   160.000000         72.0        108          97       124\n",
      "4    5   168.888889         76.0         92          75       110\n",
      "5    6   160.000000         72.0         97          88       108\n",
      "6    7   155.555556         70.0         90          79       102\n",
      "7    8   155.555556         70.0         80          68        90\n",
      "8    9   164.444444         74.0         82          66        89\n",
      "9   10   173.333333         78.0         82          67        93\n",
      "10  11   166.666667         75.0         84          67        96\n",
      "11  12   167.000000         85.0         88          72       100\n",
      "13  14   168.888889         76.0         81          68        85\n",
      "14  15   170.000000         76.5        112         100       116\n"
     ]
    }
   ],
   "source": [
    "print(\"Updated Height Statistics:\")\n",
    "print(measurements['Height (CM)'].describe())\n",
    "\n",
    "print(\"\\nSample Corrected Entries:\")\n",
    "print(measurements.loc[invalid_ids, ['ID', 'Height (CM)', 'Inseam (CM)', 'Bust (CM)', 'Waist (CM)', 'Hip (CM)']])"
   ]
  },
  {
   "cell_type": "code",
   "execution_count": 37,
   "id": "e3e6d0d1-aec7-4752-9f79-bb6c2ddaac66",
   "metadata": {},
   "outputs": [],
   "source": [
    "# Example: Recalculate Armhole (CM)\n",
    "measurements['Armhole (CM)'] = (\n",
    "    0.5 * measurements['Bust (CM)'] + \n",
    "    0.3 * measurements['Back_Waist_Length (CM)'] + \n",
    "    0.2 * measurements['Height (CM)']\n",
    ")"
   ]
  },
  {
   "cell_type": "code",
   "execution_count": 38,
   "id": "7731d045-5457-4055-8794-8aef754df556",
   "metadata": {},
   "outputs": [
    {
     "name": "stdout",
     "output_type": "stream",
     "text": [
      "\n",
      "Inseam/Height Ratios (should cluster near 0.45):\n",
      "count    213.000000\n",
      "mean       0.451015\n",
      "std        0.023901\n",
      "min        0.158824\n",
      "25%        0.450000\n",
      "50%        0.450000\n",
      "75%        0.453416\n",
      "max        0.508982\n",
      "Name: Height_Inseam_Ratio, dtype: float64\n"
     ]
    }
   ],
   "source": [
    "# Confirm all heights are realistic\n",
    "assert measurements['Height (CM)'].between(140, 200).all(), \"Still invalid heights!\"\n",
    "\n",
    "# Verify key ratios\n",
    "measurements['Height_Inseam_Ratio'] = measurements['Inseam (CM)'] / measurements['Height (CM)']\n",
    "print(\"\\nInseam/Height Ratios (should cluster near 0.45):\")\n",
    "print(measurements['Height_Inseam_Ratio'].describe())"
   ]
  },
  {
   "cell_type": "code",
   "execution_count": 39,
   "id": "397d571c-db7e-4732-9956-c1e970749a94",
   "metadata": {},
   "outputs": [
    {
     "name": "stdout",
     "output_type": "stream",
     "text": [
      "    ID  Height (CM)  Inseam (CM)  Bust (CM)  Armhole (CM)\n",
      "1    2   166.666667         75.0         94     92.633333\n",
      "2    3   166.666667         75.0         95     91.333333\n",
      "3    4   160.000000         72.0        108     98.300000\n",
      "4    5   168.888889         76.0         92     91.477778\n",
      "5    6   160.000000         72.0         97     92.200000\n",
      "6    7   155.555556         70.0         90     86.611111\n",
      "7    8   155.555556         70.0         80     82.211111\n",
      "8    9   164.444444         74.0         82     84.388889\n",
      "9   10   173.333333         78.0         82     85.266667\n",
      "10  11   166.666667         75.0         84     86.433333\n",
      "11  12   167.000000         85.0         88     88.800000\n",
      "13  14   168.888889         76.0         81     85.677778\n",
      "14  15   170.000000         76.5        112    102.000000\n"
     ]
    }
   ],
   "source": [
    "# See corrected heights for previously invalid IDs\n",
    "corrected_ids = [1, 2, 3, 4, 5, 6, 7, 8, 9, 10, 11, 13, 14]\n",
    "print(measurements.loc[corrected_ids, ['ID', 'Height (CM)', 'Inseam (CM)', 'Bust (CM)', 'Armhole (CM)']])"
   ]
  },
  {
   "cell_type": "code",
   "execution_count": 40,
   "id": "e7b0f340-4f10-43fc-8138-efa004f9e805",
   "metadata": {},
   "outputs": [
    {
     "name": "stdout",
     "output_type": "stream",
     "text": [
      "Height Stats (cm):\n",
      "count    213.000000\n",
      "mean     170.919144\n",
      "std        7.945922\n",
      "min      150.000000\n",
      "25%      165.000000\n",
      "50%      171.000000\n",
      "75%      177.000000\n",
      "max      190.000000\n",
      "Name: Height (CM), dtype: float64\n",
      "\n",
      "Inseam/Height Ratios:\n",
      "count    213.000000\n",
      "mean       0.451015\n",
      "std        0.023901\n",
      "min        0.158824\n",
      "25%        0.450000\n",
      "50%        0.450000\n",
      "75%        0.453416\n",
      "max        0.508982\n",
      "Name: Height_Inseam_Ratio, dtype: float64\n"
     ]
    }
   ],
   "source": [
    "print(\"Height Stats (cm):\")\n",
    "print(measurements['Height (CM)'].describe())  # Should show min~140, max~200\n",
    "\n",
    "print(\"\\nInseam/Height Ratios:\")\n",
    "print(measurements['Height_Inseam_Ratio'].describe())  # Should cluster near 0.45"
   ]
  },
  {
   "cell_type": "code",
   "execution_count": 41,
   "id": "8de23bbd-c11b-4f6b-bc6b-8f451c132c51",
   "metadata": {},
   "outputs": [
    {
     "data": {
      "image/png": "[encoded data removed]",
      "text/plain": [
       "<Figure size 1000x600 with 1 Axes>"
      ]
     },
     "metadata": {},
     "output_type": "display_data"
    }
   ],
   "source": [
    "import matplotlib.pyplot as plt\n",
    "\n",
    "plt.figure(figsize=(10, 6))\n",
    "plt.hist(measurements['Height (CM)'], bins=20, edgecolor='k')\n",
    "plt.title(\"Height Distribution (cm)\")\n",
    "plt.xlabel(\"Height\")\n",
    "plt.ylabel(\"Frequency\")\n",
    "plt.show()"
   ]
  },
  {
   "cell_type": "code",
   "execution_count": 42,
   "id": "f32016a2-6d86-478a-a7c5-4d27cae0afef",
   "metadata": {},
   "outputs": [
    {
     "data": {
      "image/png": "[encoded data removed]",
      "text/plain": [
       "<Figure size 1000x600 with 1 Axes>"
      ]
     },
     "metadata": {},
     "output_type": "display_data"
    }
   ],
   "source": [
    "plt.figure(figsize=(10, 6))\n",
    "plt.scatter(measurements['Height (CM)'], measurements['Inseam (CM)'])\n",
    "plt.title(\"Inseam vs Height\")\n",
    "plt.xlabel(\"Height (CM)\")\n",
    "plt.ylabel(\"Inseam (CM)\")\n",
    "plt.show()"
   ]
  },
  {
   "cell_type": "code",
   "execution_count": 43,
   "id": "455f5e17-a6b2-43d3-a02e-d688e9abeddb",
   "metadata": {},
   "outputs": [],
   "source": [
    "measurements.to_excel(\"../data/cleaned_measurements.xlsx\", index=False)"
   ]
  },
  {
   "cell_type": "code",
   "execution_count": 44,
   "id": "3c4a8b3f-f19b-4c74-8547-65b55e71adcf",
   "metadata": {},
   "outputs": [
    {
     "name": "stdout",
     "output_type": "stream",
     "text": [
      "Potential Outliers:\n",
      "      ID  Height (CM)  Inseam (CM)\n",
      "146  105        170.0         27.0\n"
     ]
    }
   ],
   "source": [
    "from scipy.stats import zscore\n",
    "\n",
    "# Calculate Z-scores for key columns\n",
    "measurements['Height_Z'] = zscore(measurements['Height (CM)'])\n",
    "measurements['Inseam_Z'] = zscore(measurements['Inseam (CM)'])\n",
    "\n",
    "# Flag outliers (|Z| > 3)\n",
    "outliers = measurements[(abs(measurements['Height_Z']) > 3) | (abs(measurements['Inseam_Z']) > 3)]\n",
    "print(\"Potential Outliers:\")\n",
    "print(outliers[['ID', 'Height (CM)', 'Inseam (CM)']])"
   ]
  },
  {
   "cell_type": "code",
   "execution_count": 45,
   "id": "47560dc8-c020-46ec-bf92-9e432197cd9e",
   "metadata": {},
   "outputs": [
    {
     "name": "stdout",
     "output_type": "stream",
     "text": [
      "Potential Outliers:\n",
      "      ID  Height (CM)  Inseam (CM)\n",
      "146  105        170.0         27.0\n"
     ]
    }
   ],
   "source": [
    "from scipy.stats import zscore\n",
    "\n",
    "# Calculate Z-scores for key columns\n",
    "measurements['Height_Z'] = zscore(measurements['Height (CM)'])\n",
    "measurements['Inseam_Z'] = zscore(measurements['Inseam (CM)'])\n",
    "\n",
    "# Flag outliers (|Z| > 3)\n",
    "outliers = measurements[(abs(measurements['Height_Z']) > 3) | (abs(measurements['Inseam_Z']) > 3)]\n",
    "print(\"Potential Outliers:\")\n",
    "print(outliers[['ID', 'Height (CM)', 'Inseam (CM)']])"
   ]
  },
  {
   "cell_type": "code",
   "execution_count": 46,
   "id": "0f7d48be-cc73-4329-b5c0-5d56cf252a85",
   "metadata": {},
   "outputs": [
    {
     "name": "stdout",
     "output_type": "stream",
     "text": [
      "Potential Outliers:\n",
      "      ID  Height (CM)  Inseam (CM)\n",
      "146  105        170.0         27.0\n"
     ]
    }
   ],
   "source": [
    "from scipy.stats import zscore\n",
    "\n",
    "# Calculate Z-scores for key columns\n",
    "measurements['Height_Z'] = zscore(measurements['Height (CM)'])\n",
    "measurements['Inseam_Z'] = zscore(measurements['Inseam (CM)'])\n",
    "\n",
    "# Flag outliers (|Z| > 3)\n",
    "outliers = measurements[(abs(measurements['Height_Z']) > 3) | (abs(measurements['Inseam_Z']) > 3)]\n",
    "print(\"Potential Outliers:\")\n",
    "print(outliers[['ID', 'Height (CM)', 'Inseam (CM)']])"
   ]
  },
  {
   "cell_type": "code",
   "execution_count": 47,
   "id": "70e1b19c-9ef6-462c-87a6-d3f6eef3b9c5",
   "metadata": {},
   "outputs": [],
   "source": [
    "# Reload the corrected data\n",
    "measurements = pd.read_excel(\"../data/cleaned_measurements.xlsx\")\n",
    "\n",
    "# Re-run preprocessing steps (if any)\n",
    "measurements['Height_Inseam_Ratio'] = measurements['Inseam (CM)'] / measurements['Height (CM)']"
   ]
  },
  {
   "cell_type": "code",
   "execution_count": 48,
   "id": "28227b68-1a4f-46e2-8e29-d03baf482315",
   "metadata": {},
   "outputs": [
    {
     "name": "stdout",
     "output_type": "stream",
     "text": [
      "Potential Outliers:\n",
      "      ID  Height (CM)  Inseam (CM)\n",
      "176  124        183.0         91.0\n",
      "183  131        187.0         93.0\n"
     ]
    }
   ],
   "source": [
    "from scipy.stats import zscore\n",
    "\n",
    "# Calculate Z-scores for key columns\n",
    "measurements['Height_Z'] = zscore(measurements['Height (CM)'])\n",
    "measurements['Inseam_Z'] = zscore(measurements['Inseam (CM)'])\n",
    "\n",
    "# Flag outliers (|Z| > 3)\n",
    "outliers = measurements[(abs(measurements['Height_Z']) > 3) | (abs(measurements['Inseam_Z']) > 3)]\n",
    "print(\"Potential Outliers:\")\n",
    "print(outliers[['ID', 'Height (CM)', 'Inseam (CM)']])"
   ]
  },
  {
   "cell_type": "code",
   "execution_count": 49,
   "id": "d55e21a6-d126-4017-a318-e5cd867a116d",
   "metadata": {},
   "outputs": [
    {
     "name": "stdout",
     "output_type": "stream",
     "text": [
      "     Height (CM)  Inseam (CM)  Height_Inseam_Ratio\n",
      "10    166.666667         75.0                 0.45\n",
      "140   166.666667         75.0                 0.45\n",
      "200   175.555556         79.0                 0.45\n"
     ]
    }
   ],
   "source": [
    "# Replace `ID_NUMBER` with the actual ID (e.g., 11)\n",
    "id_to_check = 11\n",
    "print(measurements[measurements['ID'] == id_to_check][['Height (CM)', 'Inseam (CM)', 'Height_Inseam_Ratio']])"
   ]
  },
  {
   "cell_type": "code",
   "execution_count": 50,
   "id": "b1ee8d95-50be-42d2-8a3f-e41282783e80",
   "metadata": {},
   "outputs": [
    {
     "name": "stdout",
     "output_type": "stream",
     "text": [
      "Remaining Outliers:\n",
      "    ID  Height (CM)  Inseam (CM)  Height_Inseam_Ratio\n",
      "11  12        167.0         85.0             0.508982\n"
     ]
    }
   ],
   "source": [
    "# Example: Check Inseam/Height Ratios Again\n",
    "outliers = measurements[~measurements['Height_Inseam_Ratio'].between(0.4, 0.5)]\n",
    "print(\"Remaining Outliers:\")\n",
    "print(outliers[['ID', 'Height (CM)', 'Inseam (CM)', 'Height_Inseam_Ratio']])"
   ]
  },
  {
   "cell_type": "code",
   "execution_count": 51,
   "id": "d2fa865e-e177-4d80-9506-ff30670eb283",
   "metadata": {},
   "outputs": [
    {
     "name": "stdout",
     "output_type": "stream",
     "text": [
      "[main 18deab3] Manually corrected ID 11\n",
      " 1 file changed, 0 insertions(+), 0 deletions(-)\n",
      " create mode 100644 data/final_cleaned_measurements.xlsx\n"
     ]
    },
    {
     "name": "stderr",
     "output_type": "stream",
     "text": [
      "To https://github.com/texcila/body-measurement-predictor.git\n",
      "   6f1b642..18deab3  main -> main\n"
     ]
    }
   ],
   "source": [
    "# Export the final corrected data\n",
    "measurements.to_excel(\"../data/final_cleaned_measurements.xlsx\", index=False)\n",
    "\n",
    "# Commit to Git\n",
    "!git add ../data/final_cleaned_measurements.xlsx\n",
    "!git commit -m \"Manually corrected ID 11\"\n",
    "!git push origin main"
   ]
  },
  {
   "cell_type": "code",
   "execution_count": 1,
   "id": "4bf03c49-15a3-400d-81ac-161bf8dc1003",
   "metadata": {},
   "outputs": [
    {
     "ename": "NameError",
     "evalue": "name 'df' is not defined",
     "output_type": "error",
     "traceback": [
      "\u001b[31m---------------------------------------------------------------------------\u001b[39m",
      "\u001b[31mNameError\u001b[39m                                 Traceback (most recent call last)",
      "\u001b[36mCell\u001b[39m\u001b[36m \u001b[39m\u001b[32mIn[1]\u001b[39m\u001b[32m, line 2\u001b[39m\n\u001b[32m      1\u001b[39m \u001b[38;5;66;03m# In your notebook\u001b[39;00m\n\u001b[32m----> \u001b[39m\u001b[32m2\u001b[39m \u001b[38;5;28mprint\u001b[39m(\u001b[43mdf\u001b[49m.columns.tolist())\n\u001b[32m      3\u001b[39m \u001b[38;5;28mprint\u001b[39m(df.head(\u001b[32m3\u001b[39m))\n",
      "\u001b[31mNameError\u001b[39m: name 'df' is not defined"
     ]
    }
   ],
   "source": [
    "# In your notebook\n",
    "print(df.columns.tolist())\n",
    "print(df.head(3))"
   ]
  },
  {
   "cell_type": "code",
   "execution_count": 2,
   "id": "0d0f9756-3cdc-4574-8ce4-03fa9900144c",
   "metadata": {},
   "outputs": [
    {
     "name": "stdout",
     "output_type": "stream",
     "text": [
      "['ID', 'Date Measured (YYYY-MM-DD)', 'Notes', 'Height (CM)', 'Chest (CM)', 'Bust (CM)', 'Waist (CM)', 'Hip (CM)', 'Waist_to_Hip (CM)', 'Bust_Height (CM)', 'Breast_Distance (CM)', 'Bust_Radius (CM)', 'Shoulde_to_Underbust (CM)', 'Front_Waist_Length (CM)', 'Back_Waist_Length (CM)', 'Back_Width (CM)', 'Back_Shoulder (CM)', 'Armhole (CM)', 'Top_Arm (CM)', 'Round_Elbow (CM)', 'Wrist (CM)', 'Hand_Entry (CM)', 'Elbow_Length (CM)', 'Sleeve_Length (CM)', 'Dress_Knee_Length (CM)', 'Dress_Full_Length (CM)', 'Skirt_Knee_Length (CM)', 'Skirt_Full_Length (CM)', 'Neck_to_Sweetheart_Front (CM)', 'Neck_to_Sweetheart_Back (CM)', 'Round_Neck (CM)', 'Flare_Out (CM)', 'Walking_Step (CM)', 'Trouser_Waist (CM)', 'Trouser_HIP (CM)', 'Trouser_Waist_to_Hip (CM)', 'Body_Rise (CM)', 'Outseam (CM)', 'Inseam (CM)', 'Pant_Full_Length (CM)', 'Pant_Knee_Length (CM)', 'Pant_Calf_Length (CM)', 'Pant_Ankle_Length (CM)', 'Pant_High_Ankle_Length (CM)', 'Round_Thigh (CM)', 'Round_Knee (CM)', 'Round_Calf (CM)', 'Round_High_Ankle (CM)', 'Round_Ankle (CM)', 'Foot_Entry (CM)']\n",
      "   ID Date Measured (YYYY-MM-DD) Notes  Height (CM)  Chest (CM)  Bust (CM)  \\\n",
      "0   1                 2015-03-01   NaN          NaN        88.0         92   \n",
      "1   2                 2015-03-15   NaN          NaN        90.0         94   \n",
      "2   3                 2015-03-15   NaN          NaN        88.0         95   \n",
      "\n",
      "   Waist (CM)  Hip (CM)  Waist_to_Hip (CM)  Bust_Height (CM)  ...  \\\n",
      "0          73       107                 25              27.0  ...   \n",
      "1          78       104                 21              27.0  ...   \n",
      "2          75        99                 25              26.0  ...   \n",
      "\n",
      "   Pant_Knee_Length (CM)  Pant_Calf_Length (CM)  Pant_Ankle_Length (CM)  \\\n",
      "0                   64.0                    NaN                   106.0   \n",
      "1                   63.0                    NaN                   105.0   \n",
      "2                   60.0                    NaN                   103.0   \n",
      "\n",
      "   Pant_High_Ankle_Length (CM)  Round_Thigh (CM)  Round_Knee (CM)  \\\n",
      "0                          NaN               NaN              NaN   \n",
      "1                          NaN               NaN              NaN   \n",
      "2                          NaN               NaN              NaN   \n",
      "\n",
      "   Round_Calf (CM)  Round_High_Ankle (CM)  Round_Ankle (CM)  Foot_Entry (CM)  \n",
      "0             36.0                   22.0              27.0             30.0  \n",
      "1             38.0                   24.0              28.0             30.0  \n",
      "2             38.0                   25.0              30.0             30.0  \n",
      "\n",
      "[3 rows x 50 columns]\n"
     ]
    }
   ],
   "source": [
    "import pandas as pd\n",
    "\n",
    "# Replace with the CORRECT PATH to your Excel file\n",
    "file_path = \"../data/Analysis_Dataset_Body_Measurements_CM.xlsx\"\n",
    "measurements = pd.read_excel(file_path, engine='openpyxl')  # Note: Variable name = \"measurements\", not \"df\"\n",
    "\n",
    "# Now verify\n",
    "print(measurements.columns.tolist())\n",
    "print(measurements.head(3))"
   ]
  },
  {
   "cell_type": "code",
   "execution_count": 3,
   "id": "6efc4e48-6deb-4d1f-947f-095d3f95c162",
   "metadata": {},
   "outputs": [
    {
     "ename": "SyntaxError",
     "evalue": "invalid syntax (3875653257.py, line 1)",
     "output_type": "error",
     "traceback": [
      "  \u001b[36mCell\u001b[39m\u001b[36m \u001b[39m\u001b[32mIn[3]\u001b[39m\u001b[32m, line 1\u001b[39m\n\u001b[31m    \u001b[39m\u001b[31mgit add notebooks/body_measurement_analysis.ipynb\u001b[39m\n        ^\n\u001b[31mSyntaxError\u001b[39m\u001b[31m:\u001b[39m invalid syntax\n"
     ]
    }
   ],
   "source": [
    "git add notebooks/body_measurement_analysis.ipynb\n",
    "git commit -m \"chore: Added cleaning logic for height and inseam\"\n",
    "git push origin main\n"
   ]
  },
  {
   "cell_type": "code",
   "execution_count": null,
   "id": "2603c49e-a3a3-46b7-b6e6-a96950d34e36",
   "metadata": {},
   "outputs": [],
   "source": []
  }
 ],
 "metadata": {
  "kernelspec": {
   "display_name": "Python 3 (ipykernel)",
   "language": "python",
   "name": "python3"
  },
  "language_info": {
   "codemirror_mode": {
    "name": "ipython",
    "version": 3
   },
   "file_extension": ".py",
   "mimetype": "text/x-python",
   "name": "python",
   "nbconvert_exporter": "python",
   "pygments_lexer": "ipython3",
   "version": "3.12.9"
  }
 },
 "nbformat": 4,
 "nbformat_minor": 5
}
