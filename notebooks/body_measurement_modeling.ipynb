{
 "cells": [
  {
   "cell_type": "code",
   "execution_count": 3,
   "id": "e911e7bc-99c2-4ab1-8803-7e6cb5e2d99e",
   "metadata": {},
   "outputs": [
    {
     "name": "stdout",
     "output_type": "stream",
     "text": [
      "✅ Columns standardized: ['id', 'date_measured_yyyy-mm-dd', 'height_cm', 'chest_cm', 'bust_cm']\n",
      "🎯 Targets (45): ['waist_to_hip_cm', 'bust_height_cm', 'breast_distance_cm', 'bust_radius_cm', 'shoulde_to_underbust_cm']\n",
      "✅ Model trained!\n",
      "📏 Top 10 Accurate Predictions:\n",
      "height_inseam_ratio     0.617611\n",
      "height_z                0.727691\n",
      "inseam_z                0.785695\n",
      "bust_radius_cm          1.192644\n",
      "wrist_cm                1.318584\n",
      "breast_distance_cm      1.324368\n",
      "hand_entry_cm           1.473523\n",
      "bust_height_cm          1.525566\n",
      "back_shoulder_cm        1.852041\n",
      "back_waist_length_cm    1.936759\n",
      "dtype: float32\n",
      "💾 Model saved to ../models/ ✅\n"
     ]
    }
   ],
   "source": [
    "# %% [markdown]\n",
    "# 🤖 Body Measurement Prediction Model\n",
    "# **Goal**: Predict missing measurements from height + 2 circumferences (Bust/Waist/Hip).\n",
    "# Dataset: `augmented_measurements_v1.xlsx`\n",
    "\n",
    "# %% [Step 1: Load and Standardize Data]\n",
    "import pandas as pd\n",
    "import numpy as np\n",
    "\n",
    "# Load augmented data\n",
    "try:\n",
    "    df = pd.read_excel(\"../data/augmented_measurements_v1.xlsx\")\n",
    "except FileNotFoundError:\n",
    "    print(\"ERROR: File not found. Check the path to augmented_measurements_v1.xlsx!\")\n",
    "\n",
    "# Standardize column names (spaces → underscores, lowercase)\n",
    "df.columns = [\n",
    "    col.replace(\" \", \"_\").replace(\"(\", \"\").replace(\")\", \"\").replace(\"CM\", \"cm\").lower() \n",
    "    for col in df.columns\n",
    "]\n",
    "print(\"✅ Columns standardized:\", df.columns.tolist()[:5])  # Preview first 5\n",
    "\n",
    "# %% [Step 2: Define Inputs & Targets]\n",
    "# --- Inputs (Height + any 2 of Bust/Chest/Waist/Hip) ---\n",
    "input_cols = [\n",
    "    'height_cm', \n",
    "    'chest_cm', \n",
    "    'bust_cm', \n",
    "    'waist_cm', \n",
    "    'hip_cm'\n",
    "]\n",
    "\n",
    "# --- Targets (All other measurements except metadata) ---\n",
    "exclude = ['id', 'date_measured_yyyy-mm-dd'] + input_cols\n",
    "target_cols = [col for col in df.columns if col not in exclude]\n",
    "\n",
    "print(f\"🎯 Targets ({len(target_cols)}):\", target_cols[:5])  # Preview\n",
    "\n",
    "# %% [Step 3: Simulate User Inputs (Random Missing Values)]\n",
    "# Simulate users providing only height + 2 random circumferences\n",
    "np.random.seed(42)\n",
    "for idx in df.index:\n",
    "    # Randomly select 2 circumferences to keep (other than height)\n",
    "    keep = np.random.choice(input_cols[1:], 2, replace=False)  # Exclude height\n",
    "    # Set others to NaN\n",
    "    for col in input_cols[1:]:\n",
    "        if col not in keep:\n",
    "            df.loc[idx, col] = np.nan\n",
    "\n",
    "# %% [Step 4: Train XGBoost Model]\n",
    "from xgboost import XGBRegressor\n",
    "from sklearn.model_selection import train_test_split\n",
    "\n",
    "# Prepare data\n",
    "X = df[input_cols]\n",
    "y = df[target_cols]\n",
    "\n",
    "# Split data\n",
    "X_train, X_test, y_train, y_test = train_test_split(X, y, test_size=0.2, random_state=42)\n",
    "\n",
    "# Train model (handles NaN inputs)\n",
    "model = XGBRegressor(\n",
    "    n_estimators=200,\n",
    "    learning_rate=0.1,\n",
    "    missing=np.nan  # Critical for user input flexibility\n",
    ")\n",
    "model.fit(X_train, y_train)\n",
    "print(\"✅ Model trained!\")\n",
    "\n",
    "# %% [Step 5: Evaluate Accuracy]\n",
    "from sklearn.metrics import mean_absolute_error\n",
    "\n",
    "# Predict and calculate MAE\n",
    "y_pred = model.predict(X_test)\n",
    "mae = mean_absolute_error(y_test, y_pred, multioutput='raw_values')\n",
    "\n",
    "# Print top 10 most accurate predictions\n",
    "mae_per_target = pd.Series(mae, index=target_cols).sort_values()\n",
    "print(\"📏 Top 10 Accurate Predictions:\")\n",
    "print(mae_per_target.head(10))\n",
    "\n",
    "# %% [Step 6: Save Model & Metadata]\n",
    "import joblib\n",
    "import json\n",
    "import os  # Add this import\n",
    "\n",
    "# Create directories if they don't exist\n",
    "os.makedirs(\"../models\", exist_ok=True)  # Fixes FileNotFoundError\n",
    "os.makedirs(\"../data\", exist_ok=True)\n",
    "\n",
    "# Save model\n",
    "joblib.dump(model, \"../models/fashion_measurement_predictor_v1.pkl\")\n",
    "\n",
    "# Save metadata\n",
    "with open(\"../data/metadata.json\", \"w\") as f:\n",
    "    json.dump({\"input_cols\": input_cols, \"target_cols\": target_cols}, f)\n",
    "\n",
    "print(\"💾 Model saved to ../models/ ✅\")\n"
   ]
  },
  {
   "cell_type": "code",
   "execution_count": 4,
   "id": "f8554a6a-4fba-40ea-b4d9-5a285bdd3fc2",
   "metadata": {},
   "outputs": [
    {
     "name": "stderr",
     "output_type": "stream",
     "text": [
      "Invalid switch - \"models\".\n"
     ]
    }
   ],
   "source": [
    "ls ../models  # Should show the .pkl file"
   ]
  },
  {
   "cell_type": "code",
   "execution_count": null,
   "id": "2db2b50d-100c-4cbd-be2f-a1acdb4a96de",
   "metadata": {},
   "outputs": [],
   "source": []
  },
  {
   "cell_type": "code",
   "execution_count": null,
   "id": "55dc4118-236a-4791-8839-5d06c724229a",
   "metadata": {},
   "outputs": [],
   "source": []
  }
 ],
 "metadata": {
  "kernelspec": {
   "display_name": "Python 3 (ipykernel)",
   "language": "python",
   "name": "python3"
  },
  "language_info": {
   "codemirror_mode": {
    "name": "ipython",
    "version": 3
   },
   "file_extension": ".py",
   "mimetype": "text/x-python",
   "name": "python",
   "nbconvert_exporter": "python",
   "pygments_lexer": "ipython3",
   "version": "3.12.9"
  }
 },
 "nbformat": 4,
 "nbformat_minor": 5
}
