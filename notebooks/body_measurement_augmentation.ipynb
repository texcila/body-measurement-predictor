{
 "cells": [
  {
   "cell_type": "code",
   "execution_count": 1,
   "id": "f8d73ad8-a4c1-40e3-8fe7-286653ebe0ba",
   "metadata": {},
   "outputs": [
    {
     "ename": "ImportError",
     "evalue": "Missing optional dependency 'openpyxl'.  Use pip or conda to install openpyxl.",
     "output_type": "error",
     "traceback": [
      "\u001b[31m---------------------------------------------------------------------------\u001b[39m",
      "\u001b[31mModuleNotFoundError\u001b[39m                       Traceback (most recent call last)",
      "\u001b[36mFile \u001b[39m\u001b[32m~\\Documents\\my_project\\body-measurement-predictor\\venv\\Lib\\site-packages\\pandas\\compat\\_optional.py:135\u001b[39m, in \u001b[36mimport_optional_dependency\u001b[39m\u001b[34m(name, extra, errors, min_version)\u001b[39m\n\u001b[32m    134\u001b[39m \u001b[38;5;28;01mtry\u001b[39;00m:\n\u001b[32m--> \u001b[39m\u001b[32m135\u001b[39m     module = \u001b[43mimportlib\u001b[49m\u001b[43m.\u001b[49m\u001b[43mimport_module\u001b[49m\u001b[43m(\u001b[49m\u001b[43mname\u001b[49m\u001b[43m)\u001b[49m\n\u001b[32m    136\u001b[39m \u001b[38;5;28;01mexcept\u001b[39;00m \u001b[38;5;167;01mImportError\u001b[39;00m:\n",
      "\u001b[36mFile \u001b[39m\u001b[32m~\\AppData\\Local\\Programs\\Python\\Python312\\Lib\\importlib\\__init__.py:90\u001b[39m, in \u001b[36mimport_module\u001b[39m\u001b[34m(name, package)\u001b[39m\n\u001b[32m     89\u001b[39m         level += \u001b[32m1\u001b[39m\n\u001b[32m---> \u001b[39m\u001b[32m90\u001b[39m \u001b[38;5;28;01mreturn\u001b[39;00m \u001b[43m_bootstrap\u001b[49m\u001b[43m.\u001b[49m\u001b[43m_gcd_import\u001b[49m\u001b[43m(\u001b[49m\u001b[43mname\u001b[49m\u001b[43m[\u001b[49m\u001b[43mlevel\u001b[49m\u001b[43m:\u001b[49m\u001b[43m]\u001b[49m\u001b[43m,\u001b[49m\u001b[43m \u001b[49m\u001b[43mpackage\u001b[49m\u001b[43m,\u001b[49m\u001b[43m \u001b[49m\u001b[43mlevel\u001b[49m\u001b[43m)\u001b[49m\n",
      "\u001b[36mFile \u001b[39m\u001b[32m<frozen importlib._bootstrap>:1387\u001b[39m, in \u001b[36m_gcd_import\u001b[39m\u001b[34m(name, package, level)\u001b[39m\n",
      "\u001b[36mFile \u001b[39m\u001b[32m<frozen importlib._bootstrap>:1360\u001b[39m, in \u001b[36m_find_and_load\u001b[39m\u001b[34m(name, import_)\u001b[39m\n",
      "\u001b[36mFile \u001b[39m\u001b[32m<frozen importlib._bootstrap>:1324\u001b[39m, in \u001b[36m_find_and_load_unlocked\u001b[39m\u001b[34m(name, import_)\u001b[39m\n",
      "\u001b[31mModuleNotFoundError\u001b[39m: No module named 'openpyxl'",
      "\nDuring handling of the above exception, another exception occurred:\n",
      "\u001b[31mImportError\u001b[39m                               Traceback (most recent call last)",
      "\u001b[36mCell\u001b[39m\u001b[36m \u001b[39m\u001b[32mIn[1]\u001b[39m\u001b[32m, line 8\u001b[39m\n\u001b[32m      5\u001b[39m np.random.seed(\u001b[32m42\u001b[39m)\n\u001b[32m      7\u001b[39m \u001b[38;5;66;03m# Load the cleaned dataset\u001b[39;00m\n\u001b[32m----> \u001b[39m\u001b[32m8\u001b[39m df = \u001b[43mpd\u001b[49m\u001b[43m.\u001b[49m\u001b[43mread_excel\u001b[49m\u001b[43m(\u001b[49m\u001b[33;43m\"\u001b[39;49m\u001b[33;43m../data/model_ready_measurements.xlsx\u001b[39;49m\u001b[33;43m\"\u001b[39;49m\u001b[43m)\u001b[49m\n\u001b[32m     10\u001b[39m \u001b[38;5;66;03m# Exclude non-measurement columns\u001b[39;00m\n\u001b[32m     11\u001b[39m excluded_columns = [\u001b[33m'\u001b[39m\u001b[33mID\u001b[39m\u001b[33m'\u001b[39m, \u001b[33m'\u001b[39m\u001b[33mDate Measured (YYYY-MM-DD)\u001b[39m\u001b[33m'\u001b[39m, \u001b[33m'\u001b[39m\u001b[33mNotes\u001b[39m\u001b[33m'\u001b[39m]\n",
      "\u001b[36mFile \u001b[39m\u001b[32m~\\Documents\\my_project\\body-measurement-predictor\\venv\\Lib\\site-packages\\pandas\\io\\excel\\_base.py:495\u001b[39m, in \u001b[36mread_excel\u001b[39m\u001b[34m(io, sheet_name, header, names, index_col, usecols, dtype, engine, converters, true_values, false_values, skiprows, nrows, na_values, keep_default_na, na_filter, verbose, parse_dates, date_parser, date_format, thousands, decimal, comment, skipfooter, storage_options, dtype_backend, engine_kwargs)\u001b[39m\n\u001b[32m    493\u001b[39m \u001b[38;5;28;01mif\u001b[39;00m \u001b[38;5;129;01mnot\u001b[39;00m \u001b[38;5;28misinstance\u001b[39m(io, ExcelFile):\n\u001b[32m    494\u001b[39m     should_close = \u001b[38;5;28;01mTrue\u001b[39;00m\n\u001b[32m--> \u001b[39m\u001b[32m495\u001b[39m     io = \u001b[43mExcelFile\u001b[49m\u001b[43m(\u001b[49m\n\u001b[32m    496\u001b[39m \u001b[43m        \u001b[49m\u001b[43mio\u001b[49m\u001b[43m,\u001b[49m\n\u001b[32m    497\u001b[39m \u001b[43m        \u001b[49m\u001b[43mstorage_options\u001b[49m\u001b[43m=\u001b[49m\u001b[43mstorage_options\u001b[49m\u001b[43m,\u001b[49m\n\u001b[32m    498\u001b[39m \u001b[43m        \u001b[49m\u001b[43mengine\u001b[49m\u001b[43m=\u001b[49m\u001b[43mengine\u001b[49m\u001b[43m,\u001b[49m\n\u001b[32m    499\u001b[39m \u001b[43m        \u001b[49m\u001b[43mengine_kwargs\u001b[49m\u001b[43m=\u001b[49m\u001b[43mengine_kwargs\u001b[49m\u001b[43m,\u001b[49m\n\u001b[32m    500\u001b[39m \u001b[43m    \u001b[49m\u001b[43m)\u001b[49m\n\u001b[32m    501\u001b[39m \u001b[38;5;28;01melif\u001b[39;00m engine \u001b[38;5;129;01mand\u001b[39;00m engine != io.engine:\n\u001b[32m    502\u001b[39m     \u001b[38;5;28;01mraise\u001b[39;00m \u001b[38;5;167;01mValueError\u001b[39;00m(\n\u001b[32m    503\u001b[39m         \u001b[33m\"\u001b[39m\u001b[33mEngine should not be specified when passing \u001b[39m\u001b[33m\"\u001b[39m\n\u001b[32m    504\u001b[39m         \u001b[33m\"\u001b[39m\u001b[33man ExcelFile - ExcelFile already has the engine set\u001b[39m\u001b[33m\"\u001b[39m\n\u001b[32m    505\u001b[39m     )\n",
      "\u001b[36mFile \u001b[39m\u001b[32m~\\Documents\\my_project\\body-measurement-predictor\\venv\\Lib\\site-packages\\pandas\\io\\excel\\_base.py:1567\u001b[39m, in \u001b[36mExcelFile.__init__\u001b[39m\u001b[34m(self, path_or_buffer, engine, storage_options, engine_kwargs)\u001b[39m\n\u001b[32m   1564\u001b[39m \u001b[38;5;28mself\u001b[39m.engine = engine\n\u001b[32m   1565\u001b[39m \u001b[38;5;28mself\u001b[39m.storage_options = storage_options\n\u001b[32m-> \u001b[39m\u001b[32m1567\u001b[39m \u001b[38;5;28mself\u001b[39m._reader = \u001b[38;5;28;43mself\u001b[39;49m\u001b[43m.\u001b[49m\u001b[43m_engines\u001b[49m\u001b[43m[\u001b[49m\u001b[43mengine\u001b[49m\u001b[43m]\u001b[49m\u001b[43m(\u001b[49m\n\u001b[32m   1568\u001b[39m \u001b[43m    \u001b[49m\u001b[38;5;28;43mself\u001b[39;49m\u001b[43m.\u001b[49m\u001b[43m_io\u001b[49m\u001b[43m,\u001b[49m\n\u001b[32m   1569\u001b[39m \u001b[43m    \u001b[49m\u001b[43mstorage_options\u001b[49m\u001b[43m=\u001b[49m\u001b[43mstorage_options\u001b[49m\u001b[43m,\u001b[49m\n\u001b[32m   1570\u001b[39m \u001b[43m    \u001b[49m\u001b[43mengine_kwargs\u001b[49m\u001b[43m=\u001b[49m\u001b[43mengine_kwargs\u001b[49m\u001b[43m,\u001b[49m\n\u001b[32m   1571\u001b[39m \u001b[43m\u001b[49m\u001b[43m)\u001b[49m\n",
      "\u001b[36mFile \u001b[39m\u001b[32m~\\Documents\\my_project\\body-measurement-predictor\\venv\\Lib\\site-packages\\pandas\\io\\excel\\_openpyxl.py:552\u001b[39m, in \u001b[36mOpenpyxlReader.__init__\u001b[39m\u001b[34m(self, filepath_or_buffer, storage_options, engine_kwargs)\u001b[39m\n\u001b[32m    534\u001b[39m \u001b[38;5;129m@doc\u001b[39m(storage_options=_shared_docs[\u001b[33m\"\u001b[39m\u001b[33mstorage_options\u001b[39m\u001b[33m\"\u001b[39m])\n\u001b[32m    535\u001b[39m \u001b[38;5;28;01mdef\u001b[39;00m\u001b[38;5;250m \u001b[39m\u001b[34m__init__\u001b[39m(\n\u001b[32m    536\u001b[39m     \u001b[38;5;28mself\u001b[39m,\n\u001b[32m   (...)\u001b[39m\u001b[32m    539\u001b[39m     engine_kwargs: \u001b[38;5;28mdict\u001b[39m | \u001b[38;5;28;01mNone\u001b[39;00m = \u001b[38;5;28;01mNone\u001b[39;00m,\n\u001b[32m    540\u001b[39m ) -> \u001b[38;5;28;01mNone\u001b[39;00m:\n\u001b[32m    541\u001b[39m \u001b[38;5;250m    \u001b[39m\u001b[33;03m\"\"\"\u001b[39;00m\n\u001b[32m    542\u001b[39m \u001b[33;03m    Reader using openpyxl engine.\u001b[39;00m\n\u001b[32m    543\u001b[39m \n\u001b[32m   (...)\u001b[39m\u001b[32m    550\u001b[39m \u001b[33;03m        Arbitrary keyword arguments passed to excel engine.\u001b[39;00m\n\u001b[32m    551\u001b[39m \u001b[33;03m    \"\"\"\u001b[39;00m\n\u001b[32m--> \u001b[39m\u001b[32m552\u001b[39m     \u001b[43mimport_optional_dependency\u001b[49m\u001b[43m(\u001b[49m\u001b[33;43m\"\u001b[39;49m\u001b[33;43mopenpyxl\u001b[39;49m\u001b[33;43m\"\u001b[39;49m\u001b[43m)\u001b[49m\n\u001b[32m    553\u001b[39m     \u001b[38;5;28msuper\u001b[39m().\u001b[34m__init__\u001b[39m(\n\u001b[32m    554\u001b[39m         filepath_or_buffer,\n\u001b[32m    555\u001b[39m         storage_options=storage_options,\n\u001b[32m    556\u001b[39m         engine_kwargs=engine_kwargs,\n\u001b[32m    557\u001b[39m     )\n",
      "\u001b[36mFile \u001b[39m\u001b[32m~\\Documents\\my_project\\body-measurement-predictor\\venv\\Lib\\site-packages\\pandas\\compat\\_optional.py:138\u001b[39m, in \u001b[36mimport_optional_dependency\u001b[39m\u001b[34m(name, extra, errors, min_version)\u001b[39m\n\u001b[32m    136\u001b[39m \u001b[38;5;28;01mexcept\u001b[39;00m \u001b[38;5;167;01mImportError\u001b[39;00m:\n\u001b[32m    137\u001b[39m     \u001b[38;5;28;01mif\u001b[39;00m errors == \u001b[33m\"\u001b[39m\u001b[33mraise\u001b[39m\u001b[33m\"\u001b[39m:\n\u001b[32m--> \u001b[39m\u001b[32m138\u001b[39m         \u001b[38;5;28;01mraise\u001b[39;00m \u001b[38;5;167;01mImportError\u001b[39;00m(msg)\n\u001b[32m    139\u001b[39m     \u001b[38;5;28;01mreturn\u001b[39;00m \u001b[38;5;28;01mNone\u001b[39;00m\n\u001b[32m    141\u001b[39m \u001b[38;5;66;03m# Handle submodules: if we have submodule, grab parent module from sys.modules\u001b[39;00m\n",
      "\u001b[31mImportError\u001b[39m: Missing optional dependency 'openpyxl'.  Use pip or conda to install openpyxl."
     ]
    }
   ],
   "source": [
    "import pandas as pd\n",
    "import numpy as np\n",
    "\n",
    "# Set random seed for reproducibility\n",
    "np.random.seed(42)\n",
    "\n",
    "# Load the cleaned dataset\n",
    "df = pd.read_excel(\"../data/model_ready_measurements.xlsx\")\n",
    "\n",
    "# Exclude non-measurement columns\n",
    "excluded_columns = ['ID', 'Date Measured (YYYY-MM-DD)', 'Notes']\n",
    "measurement_columns = [col for col in df.columns if col not in excluded_columns]\n",
    "\n",
    "# Define how many synthetic rows to create\n",
    "n_original = df.shape[0]\n",
    "n_target = 1000\n",
    "n_to_generate = n_target - n_original\n",
    "\n",
    "# Augmentation: create synthetic samples using random variation\n",
    "synthetic_samples = []\n",
    "\n",
    "for _ in range(n_to_generate):\n",
    "    base_row = df.sample(n=1).copy()\n",
    "    new_row = base_row.copy()\n",
    "\n",
    "    for col in measurement_columns:\n",
    "        value = base_row.iloc[0][col]\n",
    "        if pd.notna(value):\n",
    "            noise_type = np.random.choice([\"absolute\", \"percent\"])\n",
    "            if noise_type == \"absolute\":\n",
    "                noise = np.random.uniform(-2, 2)\n",
    "                new_value = value + noise\n",
    "            else:\n",
    "                percent = np.random.uniform(-0.05, 0.05)\n",
    "                new_value = value * (1 + percent)\n",
    "            new_row[col] = round(new_value, 2)\n",
    "    \n",
    "    synthetic_samples.append(new_row)\n",
    "\n",
    "# Combine original + synthetic data\n",
    "synthetic_df = pd.concat(synthetic_samples, ignore_index=True)\n",
    "augmented_df = pd.concat([df, synthetic_df], ignore_index=True)\n",
    "\n",
    "# Save to file\n",
    "augmented_df.to_excel(\"../data/augmented_measurements_v1.xlsx\", index=False)\n",
    "\n",
    "# Show shape and sample\n",
    "augmented_df.shape, augmented_df.head()\n"
   ]
  },
  {
   "cell_type": "code",
   "execution_count": 1,
   "id": "41aa6576-310b-4fac-bbc2-dc6eeaa956ed",
   "metadata": {},
   "outputs": [
    {
     "ename": "NameError",
     "evalue": "name 'pd' is not defined",
     "output_type": "error",
     "traceback": [
      "\u001b[31m---------------------------------------------------------------------------\u001b[39m",
      "\u001b[31mNameError\u001b[39m                                 Traceback (most recent call last)",
      "\u001b[36mCell\u001b[39m\u001b[36m \u001b[39m\u001b[32mIn[1]\u001b[39m\u001b[32m, line 1\u001b[39m\n\u001b[32m----> \u001b[39m\u001b[32m1\u001b[39m df = \u001b[43mpd\u001b[49m.read_excel(\u001b[33m\"\u001b[39m\u001b[33m../data/model_ready_measurements.xlsx\u001b[39m\u001b[33m\"\u001b[39m)\n",
      "\u001b[31mNameError\u001b[39m: name 'pd' is not defined"
     ]
    }
   ],
   "source": [
    "df = pd.read_excel(\"../data/model_ready_measurements.xlsx\")"
   ]
  },
  {
   "cell_type": "code",
   "execution_count": 2,
   "id": "611d7e15-c3cc-41c8-80f2-6f0d14bb400a",
   "metadata": {},
   "outputs": [],
   "source": [
    "import pandas as pd\n",
    "import numpy as np\n"
   ]
  },
  {
   "cell_type": "code",
   "execution_count": 3,
   "id": "c4e4f0d7-46f3-4a36-b705-cc98167240ec",
   "metadata": {},
   "outputs": [],
   "source": [
    "df = pd.read_excel(\"../data/model_ready_measurements.xlsx\")\n"
   ]
  },
  {
   "cell_type": "code",
   "execution_count": 4,
   "id": "fe233131-0942-4f33-9549-72b9a80be070",
   "metadata": {},
   "outputs": [
    {
     "data": {
      "text/plain": [
       "((1000, 52),\n",
       "    ID Date Measured (YYYY-MM-DD)  Height (CM)  Chest (CM)  Bust (CM)  \\\n",
       " 0   1                 2015-03-01   160.000000        88.0       92.0   \n",
       " 1   2                 2015-03-15   166.666667        90.0       94.0   \n",
       " 2   3                 2015-03-15   166.666667        88.0       95.0   \n",
       " 3   4                 2015-03-30   160.000000       105.0      108.0   \n",
       " 4   5                 2015-08-20   168.888889        90.0       92.0   \n",
       " \n",
       "    Waist (CM)  Hip (CM)  Waist_to_Hip (CM)  Bust_Height (CM)  \\\n",
       " 0        73.0     107.0               25.0              27.0   \n",
       " 1        78.0     104.0               21.0              27.0   \n",
       " 2        75.0      99.0               25.0              26.0   \n",
       " 3        97.0     124.0               24.0              27.0   \n",
       " 4        75.0     110.0               27.0              26.0   \n",
       " \n",
       "    Breast_Distance (CM)  ...  Pant_High_Ankle_Length (CM)  Round_Thigh (CM)  \\\n",
       " 0                  21.0  ...                       100.70             69.55   \n",
       " 1                  20.0  ...                        99.75             67.60   \n",
       " 2                  20.0  ...                        97.85             64.35   \n",
       " 3                  21.0  ...                        98.80             80.60   \n",
       " 4                  21.0  ...                        98.80             71.50   \n",
       " \n",
       "    Round_Knee (CM)  Round_Calf (CM)  Round_High_Ankle (CM)  Round_Ankle (CM)  \\\n",
       " 0          59.1175             36.0                   22.0              27.0   \n",
       " 1          57.4600             38.0                   24.0              28.0   \n",
       " 2          54.6975             38.0                   25.0              30.0   \n",
       " 3          68.5100             44.0                   28.0              32.0   \n",
       " 4          60.7750             35.0                   22.0              27.0   \n",
       " \n",
       "    Foot_Entry (CM)  Height_Inseam_Ratio  Height_Z  Inseam_Z  \n",
       " 0             30.0                 0.45 -1.377419 -1.246335  \n",
       " 1             30.0                 0.45 -0.536438 -0.542204  \n",
       " 2             30.0                 0.45 -0.536438 -0.542204  \n",
       " 3             35.0                 0.45 -1.377419 -1.246335  \n",
       " 4             30.0                 0.45 -0.256111 -0.307493  \n",
       " \n",
       " [5 rows x 52 columns])"
      ]
     },
     "execution_count": 4,
     "metadata": {},
     "output_type": "execute_result"
    }
   ],
   "source": [
    "import pandas as pd\n",
    "import numpy as np\n",
    "\n",
    "# Set random seed for reproducibility\n",
    "np.random.seed(42)\n",
    "\n",
    "# Load the cleaned dataset\n",
    "df = pd.read_excel(\"../data/model_ready_measurements.xlsx\")\n",
    "\n",
    "# Exclude non-measurement columns\n",
    "excluded_columns = ['ID', 'Date Measured (YYYY-MM-DD)', 'Notes']\n",
    "measurement_columns = [col for col in df.columns if col not in excluded_columns]\n",
    "\n",
    "# Define how many synthetic rows to create\n",
    "n_original = df.shape[0]\n",
    "n_target = 1000\n",
    "n_to_generate = n_target - n_original\n",
    "\n",
    "# Augmentation: create synthetic samples using random variation\n",
    "synthetic_samples = []\n",
    "\n",
    "for _ in range(n_to_generate):\n",
    "    base_row = df.sample(n=1).copy()\n",
    "    new_row = base_row.copy()\n",
    "\n",
    "    for col in measurement_columns:\n",
    "        value = base_row.iloc[0][col]\n",
    "        if pd.notna(value):\n",
    "            noise_type = np.random.choice([\"absolute\", \"percent\"])\n",
    "            if noise_type == \"absolute\":\n",
    "                noise = np.random.uniform(-2, 2)\n",
    "                new_value = value + noise\n",
    "            else:\n",
    "                percent = np.random.uniform(-0.05, 0.05)\n",
    "                new_value = value * (1 + percent)\n",
    "            new_row[col] = round(new_value, 2)\n",
    "    \n",
    "    synthetic_samples.append(new_row)\n",
    "\n",
    "# Combine original + synthetic data\n",
    "synthetic_df = pd.concat(synthetic_samples, ignore_index=True)\n",
    "augmented_df = pd.concat([df, synthetic_df], ignore_index=True)\n",
    "\n",
    "# Save to file\n",
    "augmented_df.to_excel(\"../data/augmented_measurements_v1.xlsx\", index=False)\n",
    "\n",
    "# Show shape and sample\n",
    "augmented_df.shape, augmented_df.head()\n"
   ]
  },
  {
   "cell_type": "code",
   "execution_count": 5,
   "id": "dfc3cfb0-d221-4ccf-8270-6afc0952e39a",
   "metadata": {},
   "outputs": [
    {
     "data": {
      "text/plain": [
       "(1000, 52)"
      ]
     },
     "execution_count": 5,
     "metadata": {},
     "output_type": "execute_result"
    }
   ],
   "source": [
    "augmented_df = pd.read_excel(\"../data/augmented_measurements_v1.xlsx\")\n",
    "augmented_df.shape"
   ]
  },
  {
   "cell_type": "code",
   "execution_count": null,
   "id": "25f6eb90-d8ff-481d-8635-93f11dcc041b",
   "metadata": {},
   "outputs": [],
   "source": []
  },
  {
   "cell_type": "code",
   "execution_count": 3,
   "id": "ac9ffbcc-6842-4f5c-a669-0e8fc5b6a0cf",
   "metadata": {},
   "outputs": [
    {
     "name": "stdout",
     "output_type": "stream",
     "text": [
      "❌ Error: File not found. Please verify the path:\n",
      "..data/augmented_measurements_v1.xlsx\n"
     ]
    }
   ],
   "source": [
    "import pandas as pd\n",
    "\n",
    "try:\n",
    "    # Load your augmented dataset\n",
    "    df = pd.read_excel(\"..data/augmented_measurements_v1.xlsx\")\n",
    "    \n",
    "    # Get all column names\n",
    "    columns = df.columns.tolist()\n",
    "    \n",
    "    # Print in an easy-to-read format\n",
    "    print(\"📏 Measurement Columns in Your Dataset:\")\n",
    "    print(\"=\" * 50)\n",
    "    for i, col in enumerate(columns, 1):\n",
    "        print(f\"{i}. {col}\")\n",
    "    print(\"=\" * 50)\n",
    "    print(f\"\\nTotal measurements: {len(columns)}\")\n",
    "    print(f\"Sample data shape: {df.shape} (rows × columns)\")\n",
    "    \n",
    "except FileNotFoundError:\n",
    "    print(\"❌ Error: File not found. Please verify the path:\")\n",
    "    print(\"..data/augmented_measurements_v1.xlsx\")\n",
    "except Exception as e:\n",
    "    print(f\"❌ Unexpected error: {str(e)}\")"
   ]
  },
  {
   "cell_type": "code",
   "execution_count": 4,
   "id": "3701fb85-0c75-4e50-b13c-b7981f0b5fb8",
   "metadata": {},
   "outputs": [
    {
     "name": "stdout",
     "output_type": "stream",
     "text": [
      "📏 Measurement Columns in Your Dataset:\n",
      "==================================================\n",
      "1. ID\n",
      "2. Date Measured (YYYY-MM-DD)\n",
      "3. Height (CM)\n",
      "4. Chest (CM)\n",
      "5. Bust (CM)\n",
      "6. Waist (CM)\n",
      "7. Hip (CM)\n",
      "8. Waist_to_Hip (CM)\n",
      "9. Bust_Height (CM)\n",
      "10. Breast_Distance (CM)\n",
      "11. Bust_Radius (CM)\n",
      "12. Shoulde_to_Underbust (CM)\n",
      "13. Front_Waist_Length (CM)\n",
      "14. Back_Waist_Length (CM)\n",
      "15. Back_Width (CM)\n",
      "16. Back_Shoulder (CM)\n",
      "17. Armhole (CM)\n",
      "18. Top_Arm (CM)\n",
      "19. Round_Elbow (CM)\n",
      "20. Wrist (CM)\n",
      "21. Hand_Entry (CM)\n",
      "22. Elbow_Length (CM)\n",
      "23. Sleeve_Length (CM)\n",
      "24. Dress_Knee_Length (CM)\n",
      "25. Dress_Full_Length (CM)\n",
      "26. Skirt_Knee_Length (CM)\n",
      "27. Skirt_Full_Length (CM)\n",
      "28. Neck_to_Sweetheart_Front (CM)\n",
      "29. Neck_to_Sweetheart_Back (CM)\n",
      "30. Round_Neck (CM)\n",
      "31. Flare_Out (CM)\n",
      "32. Walking_Step (CM)\n",
      "33. Trouser_Waist (CM)\n",
      "34. Trouser_HIP (CM)\n",
      "35. Trouser_Waist_to_Hip (CM)\n",
      "36. Body_Rise (CM)\n",
      "37. Outseam (CM)\n",
      "38. Inseam (CM)\n",
      "39. Pant_Full_Length (CM)\n",
      "40. Pant_Knee_Length (CM)\n",
      "41. Pant_Calf_Length (CM)\n",
      "42. Pant_Ankle_Length (CM)\n",
      "43. Pant_High_Ankle_Length (CM)\n",
      "44. Round_Thigh (CM)\n",
      "45. Round_Knee (CM)\n",
      "46. Round_Calf (CM)\n",
      "47. Round_High_Ankle (CM)\n",
      "48. Round_Ankle (CM)\n",
      "49. Foot_Entry (CM)\n",
      "50. Height_Inseam_Ratio\n",
      "51. Height_Z\n",
      "52. Inseam_Z\n",
      "==================================================\n",
      "\n",
      "Total measurements: 52\n",
      "Sample data shape: (1000, 52) (rows × columns)\n"
     ]
    }
   ],
   "source": [
    "import pandas as pd\n",
    "\n",
    "try:\n",
    "    # Load your augmented dataset\n",
    "    df = pd.read_excel(\"../data/augmented_measurements_v1.xlsx\")\n",
    "    \n",
    "    # Get all column names\n",
    "    columns = df.columns.tolist()\n",
    "    \n",
    "    # Print in an easy-to-read format\n",
    "    print(\"📏 Measurement Columns in Your Dataset:\")\n",
    "    print(\"=\" * 50)\n",
    "    for i, col in enumerate(columns, 1):\n",
    "        print(f\"{i}. {col}\")\n",
    "    print(\"=\" * 50)\n",
    "    print(f\"\\nTotal measurements: {len(columns)}\")\n",
    "    print(f\"Sample data shape: {df.shape} (rows × columns)\")\n",
    "    \n",
    "except FileNotFoundError:\n",
    "    print(\"❌ Error: File not found. Please verify the path:\")\n",
    "    print(\"../data/augmented_measurements_v1.xlsx\")\n",
    "except Exception as e:\n",
    "    print(f\"❌ Unexpected error: {str(e)}\")"
   ]
  },
  {
   "cell_type": "code",
   "execution_count": null,
   "id": "bbb29cf2-0155-4b5e-bacc-6bdb0d2f1ccf",
   "metadata": {},
   "outputs": [],
   "source": []
  }
 ],
 "metadata": {
  "kernelspec": {
   "display_name": "Python 3 (ipykernel)",
   "language": "python",
   "name": "python3"
  },
  "language_info": {
   "codemirror_mode": {
    "name": "ipython",
    "version": 3
   },
   "file_extension": ".py",
   "mimetype": "text/x-python",
   "name": "python",
   "nbconvert_exporter": "python",
   "pygments_lexer": "ipython3",
   "version": "3.12.9"
  }
 },
 "nbformat": 4,
 "nbformat_minor": 5
}
